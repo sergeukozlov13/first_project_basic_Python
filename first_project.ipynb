{
 "cells": [
  {
   "cell_type": "markdown",
   "metadata": {
    "deletable": false,
    "editable": false,
    "id": "E0vqbgi9ay0H"
   },
   "source": [
    "# Яндекс Музыка"
   ]
  },
  {
   "cell_type": "markdown",
   "metadata": {
    "deletable": false,
    "editable": false,
    "id": "VUC88oWjTJw2"
   },
   "source": [
    "Сравнение Москвы и Петербурга окружено мифами. Например:\n",
    " * Москва — мегаполис, подчинённый жёсткому ритму рабочей недели;\n",
    " * Петербург — культурная столица, со своими вкусами.\n",
    "\n",
    "На данных Яндекс Музыки вы сравните поведение пользователей двух столиц.\n",
    "\n",
    "**Цель исследования** — проверьте три гипотезы:\n",
    "1. Активность пользователей зависит от дня недели. Причём в Москве и Петербурге это проявляется по-разному.\n",
    "2. В понедельник утром в Москве преобладают одни жанры, а в Петербурге — другие. Так же и вечером пятницы преобладают разные жанры — в зависимости от города.\n",
    "3. Москва и Петербург предпочитают разные жанры музыки. В Москве чаще слушают поп-музыку, в Петербурге — русский рэп.\n",
    "\n",
    "**Ход исследования**\n",
    "\n",
    "Данные о поведении пользователей вы получите из файла `yandex_music_project.csv`. О качестве данных ничего не известно. Поэтому перед проверкой гипотез понадобится обзор данных.\n",
    "\n",
    "Вы проверите данные на ошибки и оцените их влияние на исследование. Затем, на этапе предобработки вы поищете возможность исправить самые критичные ошибки данных.\n",
    "\n",
    "Таким образом, исследование пройдёт в три этапа:\n",
    " 1. Обзор данных.\n",
    " 2. Предобработка данных.\n",
    " 3. Проверка гипотез.\n",
    "\n"
   ]
  },
  {
   "cell_type": "markdown",
   "metadata": {
    "deletable": false,
    "editable": false,
    "id": "Ml1hmfXC_Zcs"
   },
   "source": [
    "## Обзор данных\n",
    "\n",
    "Составьте первое представление о данных Яндекс Музыки.\n",
    "\n",
    "\n"
   ]
  },
  {
   "cell_type": "markdown",
   "metadata": {
    "deletable": false,
    "editable": false,
    "id": "57eAOGIz_Zcs",
    "tags": [
     "start_task"
    ]
   },
   "source": [
    "**Задание 1**\n",
    "\n",
    "Основной инструмент аналитика — `pandas`. Импортируйте эту библиотеку."
   ]
  },
  {
   "cell_type": "code",
   "execution_count": 1,
   "metadata": {
    "deletable": false,
    "id": "AXN7PHPN_Zcs"
   },
   "outputs": [],
   "source": [
    "import pandas as pd"
   ]
  },
  {
   "cell_type": "markdown",
   "metadata": {
    "deletable": false,
    "editable": false,
    "id": "SG23P8tt_Zcs",
    "tags": [
     "start_task"
    ]
   },
   "source": [
    "**Задание 2**\n",
    "\n",
    "Прочитайте файл `yandex_music_project.csv` из папки `/datasets` и сохраните его в переменной `df`:"
   ]
  },
  {
   "cell_type": "code",
   "execution_count": 2,
   "metadata": {
    "deletable": false,
    "id": "fFVu7vqh_Zct"
   },
   "outputs": [],
   "source": [
    "df=pd.read_csv('/datasets/yandex_music_project.csv') "
   ]
  },
  {
   "cell_type": "markdown",
   "metadata": {
    "deletable": false,
    "editable": false,
    "id": "rDoOMd3uTqnZ",
    "tags": [
     "start_task"
    ]
   },
   "source": [
    "**Задание 3**\n",
    "\n",
    "\n",
    "Выведите на экран первые десять строк таблицы:"
   ]
  },
  {
   "cell_type": "code",
   "execution_count": 3,
   "metadata": {
    "deletable": false,
    "id": "oWTVX3gW_Zct"
   },
   "outputs": [
    {
     "data": {
      "text/html": [
       "<div>\n",
       "<style scoped>\n",
       "    .dataframe tbody tr th:only-of-type {\n",
       "        vertical-align: middle;\n",
       "    }\n",
       "\n",
       "    .dataframe tbody tr th {\n",
       "        vertical-align: top;\n",
       "    }\n",
       "\n",
       "    .dataframe thead th {\n",
       "        text-align: right;\n",
       "    }\n",
       "</style>\n",
       "<table border=\"1\" class=\"dataframe\">\n",
       "  <thead>\n",
       "    <tr style=\"text-align: right;\">\n",
       "      <th></th>\n",
       "      <th>userID</th>\n",
       "      <th>Track</th>\n",
       "      <th>artist</th>\n",
       "      <th>genre</th>\n",
       "      <th>City</th>\n",
       "      <th>time</th>\n",
       "      <th>Day</th>\n",
       "    </tr>\n",
       "  </thead>\n",
       "  <tbody>\n",
       "    <tr>\n",
       "      <th>0</th>\n",
       "      <td>FFB692EC</td>\n",
       "      <td>Kamigata To Boots</td>\n",
       "      <td>The Mass Missile</td>\n",
       "      <td>rock</td>\n",
       "      <td>Saint-Petersburg</td>\n",
       "      <td>20:28:33</td>\n",
       "      <td>Wednesday</td>\n",
       "    </tr>\n",
       "    <tr>\n",
       "      <th>1</th>\n",
       "      <td>55204538</td>\n",
       "      <td>Delayed Because of Accident</td>\n",
       "      <td>Andreas Rönnberg</td>\n",
       "      <td>rock</td>\n",
       "      <td>Moscow</td>\n",
       "      <td>14:07:09</td>\n",
       "      <td>Friday</td>\n",
       "    </tr>\n",
       "    <tr>\n",
       "      <th>2</th>\n",
       "      <td>20EC38</td>\n",
       "      <td>Funiculì funiculà</td>\n",
       "      <td>Mario Lanza</td>\n",
       "      <td>pop</td>\n",
       "      <td>Saint-Petersburg</td>\n",
       "      <td>20:58:07</td>\n",
       "      <td>Wednesday</td>\n",
       "    </tr>\n",
       "    <tr>\n",
       "      <th>3</th>\n",
       "      <td>A3DD03C9</td>\n",
       "      <td>Dragons in the Sunset</td>\n",
       "      <td>Fire + Ice</td>\n",
       "      <td>folk</td>\n",
       "      <td>Saint-Petersburg</td>\n",
       "      <td>08:37:09</td>\n",
       "      <td>Monday</td>\n",
       "    </tr>\n",
       "    <tr>\n",
       "      <th>4</th>\n",
       "      <td>E2DC1FAE</td>\n",
       "      <td>Soul People</td>\n",
       "      <td>Space Echo</td>\n",
       "      <td>dance</td>\n",
       "      <td>Moscow</td>\n",
       "      <td>08:34:34</td>\n",
       "      <td>Monday</td>\n",
       "    </tr>\n",
       "    <tr>\n",
       "      <th>5</th>\n",
       "      <td>842029A1</td>\n",
       "      <td>Преданная</td>\n",
       "      <td>IMPERVTOR</td>\n",
       "      <td>rusrap</td>\n",
       "      <td>Saint-Petersburg</td>\n",
       "      <td>13:09:41</td>\n",
       "      <td>Friday</td>\n",
       "    </tr>\n",
       "    <tr>\n",
       "      <th>6</th>\n",
       "      <td>4CB90AA5</td>\n",
       "      <td>True</td>\n",
       "      <td>Roman Messer</td>\n",
       "      <td>dance</td>\n",
       "      <td>Moscow</td>\n",
       "      <td>13:00:07</td>\n",
       "      <td>Wednesday</td>\n",
       "    </tr>\n",
       "    <tr>\n",
       "      <th>7</th>\n",
       "      <td>F03E1C1F</td>\n",
       "      <td>Feeling This Way</td>\n",
       "      <td>Polina Griffith</td>\n",
       "      <td>dance</td>\n",
       "      <td>Moscow</td>\n",
       "      <td>20:47:49</td>\n",
       "      <td>Wednesday</td>\n",
       "    </tr>\n",
       "    <tr>\n",
       "      <th>8</th>\n",
       "      <td>8FA1D3BE</td>\n",
       "      <td>И вновь продолжается бой</td>\n",
       "      <td>NaN</td>\n",
       "      <td>ruspop</td>\n",
       "      <td>Moscow</td>\n",
       "      <td>09:17:40</td>\n",
       "      <td>Friday</td>\n",
       "    </tr>\n",
       "    <tr>\n",
       "      <th>9</th>\n",
       "      <td>E772D5C0</td>\n",
       "      <td>Pessimist</td>\n",
       "      <td>NaN</td>\n",
       "      <td>dance</td>\n",
       "      <td>Saint-Petersburg</td>\n",
       "      <td>21:20:49</td>\n",
       "      <td>Wednesday</td>\n",
       "    </tr>\n",
       "  </tbody>\n",
       "</table>\n",
       "</div>"
      ],
      "text/plain": [
       "     userID                        Track            artist   genre  \\\n",
       "0  FFB692EC            Kamigata To Boots  The Mass Missile    rock   \n",
       "1  55204538  Delayed Because of Accident  Andreas Rönnberg    rock   \n",
       "2    20EC38            Funiculì funiculà       Mario Lanza     pop   \n",
       "3  A3DD03C9        Dragons in the Sunset        Fire + Ice    folk   \n",
       "4  E2DC1FAE                  Soul People        Space Echo   dance   \n",
       "5  842029A1                    Преданная         IMPERVTOR  rusrap   \n",
       "6  4CB90AA5                         True      Roman Messer   dance   \n",
       "7  F03E1C1F             Feeling This Way   Polina Griffith   dance   \n",
       "8  8FA1D3BE     И вновь продолжается бой               NaN  ruspop   \n",
       "9  E772D5C0                    Pessimist               NaN   dance   \n",
       "\n",
       "             City        time        Day  \n",
       "0  Saint-Petersburg  20:28:33  Wednesday  \n",
       "1            Moscow  14:07:09     Friday  \n",
       "2  Saint-Petersburg  20:58:07  Wednesday  \n",
       "3  Saint-Petersburg  08:37:09     Monday  \n",
       "4            Moscow  08:34:34     Monday  \n",
       "5  Saint-Petersburg  13:09:41     Friday  \n",
       "6            Moscow  13:00:07  Wednesday  \n",
       "7            Moscow  20:47:49  Wednesday  \n",
       "8            Moscow  09:17:40     Friday  \n",
       "9  Saint-Petersburg  21:20:49  Wednesday  "
      ]
     },
     "execution_count": 3,
     "metadata": {},
     "output_type": "execute_result"
    }
   ],
   "source": [
    "df.head(10)# получение первых 10 строк таблицы df"
   ]
  },
  {
   "cell_type": "markdown",
   "metadata": {
    "deletable": false,
    "editable": false,
    "id": "EO73Kwic_Zct",
    "tags": [
     "start_task"
    ]
   },
   "source": [
    "**Задание 4**\n",
    "\n",
    "\n",
    "Одной командой получить общую информацию о таблице c помощью метода `info()`:"
   ]
  },
  {
   "cell_type": "code",
   "execution_count": 4,
   "metadata": {
    "deletable": false,
    "id": "DSf2kIb-_Zct"
   },
   "outputs": [
    {
     "name": "stdout",
     "output_type": "stream",
     "text": [
      "<class 'pandas.core.frame.DataFrame'>\n",
      "RangeIndex: 65079 entries, 0 to 65078\n",
      "Data columns (total 7 columns):\n",
      " #   Column    Non-Null Count  Dtype \n",
      "---  ------    --------------  ----- \n",
      " 0     userID  65079 non-null  object\n",
      " 1   Track     63848 non-null  object\n",
      " 2   artist    57876 non-null  object\n",
      " 3   genre     63881 non-null  object\n",
      " 4     City    65079 non-null  object\n",
      " 5   time      65079 non-null  object\n",
      " 6   Day       65079 non-null  object\n",
      "dtypes: object(7)\n",
      "memory usage: 3.5+ MB\n"
     ]
    }
   ],
   "source": [
    "df.info() # получение общей информации о данных в таблице df"
   ]
  },
  {
   "cell_type": "markdown",
   "metadata": {
    "deletable": false,
    "editable": false,
    "id": "TaQ2Iwbr_Zct"
   },
   "source": [
    "Итак, в таблице семь столбцов. Тип данных во всех столбцах — `object`.\n",
    "\n",
    "Согласно документации к данным:\n",
    "* `userID` — идентификатор пользователя;\n",
    "* `Track` — название трека;  \n",
    "* `artist` — имя исполнителя;\n",
    "* `genre` — название жанра;\n",
    "* `City` — город пользователя;\n",
    "* `time` — время начала прослушивания;\n",
    "* `Day` — день недели.\n",
    "\n",
    "Количество значений в столбцах различается. Значит, в данных есть пропущенные значения."
   ]
  },
  {
   "cell_type": "markdown",
   "metadata": {
    "deletable": false,
    "editable": false,
    "id": "4P0UCWzswgEm",
    "tags": [
     "start_task"
    ]
   },
   "source": [
    "**Задание 5**\n",
    "\n",
    "**Вопрос со свободной формой ответа**\n",
    "\n",
    "В названиях колонок видны три нарушения стиля:\n",
    "1. Строчные буквы сочетаются с прописными.\n",
    "2. Встречаются пробелы."
   ]
  },
  {
   "cell_type": "code",
   "execution_count": 5,
   "metadata": {
    "id": "c137-ZstwgEm"
   },
   "outputs": [],
   "source": [
    "#3.названия не приведены к \"змеиному регистру\".\n",
    "#Напишите ваш ответ здесь комментарием. Не удаляйте символ #. Не меняйте тип этой ячейки на Markdown."
   ]
  },
  {
   "cell_type": "markdown",
   "metadata": {
    "deletable": false,
    "editable": false,
    "id": "MCB6-dXG_Zct"
   },
   "source": [
    "**Выводы**\n",
    "\n",
    "В каждой строке таблицы — данные о прослушанном треке. Часть колонок описывает саму композицию: название, исполнителя и жанр. Остальные данные рассказывают о пользователе: из какого он города, когда он слушал музыку.\n",
    "\n",
    "Предварительно можно утверждать, что данных достаточно для проверки гипотез. Но встречаются пропуски в данных, а в названиях колонок — расхождения с хорошим стилем.\n",
    "\n",
    "Чтобы двигаться дальше, нужно устранить проблемы в данных."
   ]
  },
  {
   "cell_type": "markdown",
   "metadata": {
    "deletable": false,
    "editable": false,
    "id": "SjYF6Ub9_Zct"
   },
   "source": [
    "## Предобработка данных\n",
    "Исправьте стиль в заголовках столбцов, исключите пропуски. Затем проверьте данные на дубликаты."
   ]
  },
  {
   "cell_type": "markdown",
   "metadata": {
    "deletable": false,
    "editable": false,
    "id": "dIaKXr29_Zct",
    "tags": [
     "start_task"
    ]
   },
   "source": [
    "### Стиль заголовков\n",
    "\n",
    "**Задание 6**\n",
    "\n",
    "Выведите на экран названия столбцов:"
   ]
  },
  {
   "cell_type": "code",
   "execution_count": 6,
   "metadata": {
    "deletable": false,
    "id": "oKOTdF_Q_Zct"
   },
   "outputs": [
    {
     "name": "stdout",
     "output_type": "stream",
     "text": [
      "Index(['  userID', 'Track', 'artist', 'genre', '  City  ', 'time', 'Day'], dtype='object')\n"
     ]
    }
   ],
   "source": [
    "print(df.columns) # перечень названий столбцов таблицы df"
   ]
  },
  {
   "cell_type": "markdown",
   "metadata": {
    "deletable": false,
    "editable": false,
    "id": "zj5534cv_Zct",
    "tags": [
     "start_task"
    ]
   },
   "source": [
    "**Задание 7**\n",
    "\n",
    "\n",
    "Приведите названия в соответствие с хорошим стилем:\n",
    "* несколько слов в названии запишите в «змеином_регистре»,\n",
    "* все символы сделайте строчными,\n",
    "* устраните пробелы.\n",
    "\n",
    "Для этого переименуйте колонки так:\n",
    "* `'  userID'` → `'user_id'`;\n",
    "* `'Track'` → `'track'`;\n",
    "* `'  City  '` → `'city'`;\n",
    "* `'Day'` → `'day'`."
   ]
  },
  {
   "cell_type": "code",
   "execution_count": 7,
   "metadata": {
    "deletable": false,
    "id": "ISlFqs5y_Zct"
   },
   "outputs": [],
   "source": [
    "df=df.rename(columns={'  userID': 'user_id', 'Track': 'track', '  City  ': 'city',\n",
    "                      'Day': 'day'}) # переименование столбцов"
   ]
  },
  {
   "cell_type": "markdown",
   "metadata": {
    "deletable": false,
    "editable": false,
    "id": "1dqbh00J_Zct",
    "tags": [
     "start_task"
    ]
   },
   "source": [
    "**Задание 8**\n",
    "\n",
    "\n",
    "Проверьте результат. Для этого ещё раз выведите на экран названия столбцов:"
   ]
  },
  {
   "cell_type": "code",
   "execution_count": 8,
   "metadata": {
    "deletable": false,
    "id": "d4NOAmTW_Zct"
   },
   "outputs": [
    {
     "name": "stdout",
     "output_type": "stream",
     "text": [
      "Index(['user_id', 'track', 'artist', 'genre', 'city', 'time', 'day'], dtype='object')\n"
     ]
    }
   ],
   "source": [
    "print(df.columns) # проверка результатов - перечень названий столбцов"
   ]
  },
  {
   "cell_type": "markdown",
   "metadata": {
    "deletable": false,
    "editable": false,
    "id": "5ISfbcfY_Zct",
    "tags": [
     "start_task"
    ]
   },
   "source": [
    "### Пропуски значений\n",
    "\n",
    "**Задание 9**\n",
    "\n",
    "Сначала посчитайте, сколько в таблице пропущенных значений. Для этого достаточно двух методов `pandas`:"
   ]
  },
  {
   "cell_type": "code",
   "execution_count": 9,
   "metadata": {
    "deletable": false,
    "id": "RskX29qr_Zct"
   },
   "outputs": [
    {
     "data": {
      "text/plain": [
       "user_id       0\n",
       "track      1231\n",
       "artist     7203\n",
       "genre      1198\n",
       "city          0\n",
       "time          0\n",
       "day           0\n",
       "dtype: int64"
      ]
     },
     "execution_count": 9,
     "metadata": {},
     "output_type": "execute_result"
    }
   ],
   "source": [
    "df.isna().sum() # подсчёт пропусков"
   ]
  },
  {
   "cell_type": "markdown",
   "metadata": {
    "deletable": false,
    "editable": false,
    "id": "qubhgnlO_Zct"
   },
   "source": [
    "Не все пропущенные значения влияют на исследование. Так, в `track` и `artist` пропуски не важны для вашей работы. Достаточно заменить их явными обозначениями.\n",
    "\n",
    "Но пропуски в `genre` могут помешать сравнить музыкальные вкусы в Москве и Санкт-Петербурге. На практике было бы правильно установить причину пропусков и восстановить данные. Такой возможности нет в учебном проекте. Поэтому придётся:\n",
    "* заполнить и эти пропуски явными обозначениями;\n",
    "* оценить, насколько они повредят расчётам."
   ]
  },
  {
   "cell_type": "markdown",
   "metadata": {
    "deletable": false,
    "editable": false,
    "id": "fSv2laPA_Zct",
    "tags": [
     "start_task"
    ]
   },
   "source": [
    "**Задание 10**\n",
    "\n",
    "Замените пропущенные значения в столбцах `track`, `artist` и `genre` на строку `'unknown'`. Для этого создайте список `columns_to_replace`, переберите его элементы циклом `for` и для каждого столбца выполните замену пропущенных значений:"
   ]
  },
  {
   "cell_type": "code",
   "execution_count": 10,
   "metadata": {
    "deletable": false,
    "id": "KplB5qWs_Zct"
   },
   "outputs": [],
   "source": [
    "columns_to_replace = df.loc[:, ['track', 'artist', 'genre']]\n",
    "for column in columns_to_replace:\n",
    "    df[column] = df[column].fillna('unknown')\n",
    "        # перебор названий столбцов в цикле и замена пропущенных значений на 'unknown'"
   ]
  },
  {
   "cell_type": "markdown",
   "metadata": {
    "deletable": false,
    "editable": false,
    "id": "Ilsm-MZo_Zct",
    "tags": [
     "start_task"
    ]
   },
   "source": [
    "**Задание 11**\n",
    "\n",
    "Убедитесь, что в таблице не осталось пропусков. Для этого ещё раз посчитайте пропущенные значения."
   ]
  },
  {
   "cell_type": "code",
   "execution_count": 11,
   "metadata": {
    "deletable": false,
    "id": "Tq4nYRX4_Zct"
   },
   "outputs": [
    {
     "data": {
      "text/plain": [
       "user_id    0\n",
       "track      0\n",
       "artist     0\n",
       "genre      0\n",
       "city       0\n",
       "time       0\n",
       "day        0\n",
       "dtype: int64"
      ]
     },
     "execution_count": 11,
     "metadata": {},
     "output_type": "execute_result"
    }
   ],
   "source": [
    "df.isna().sum() # подсчёт пропусков"
   ]
  },
  {
   "cell_type": "markdown",
   "metadata": {
    "deletable": false,
    "editable": false,
    "id": "BWKRtBJ3_Zct",
    "tags": [
     "start_task"
    ]
   },
   "source": [
    "### Дубликаты\n",
    "\n",
    "**Задание 12**\n",
    "\n",
    "Посчитайте явные дубликаты в таблице одной командой:"
   ]
  },
  {
   "cell_type": "code",
   "execution_count": 12,
   "metadata": {
    "deletable": false,
    "id": "36eES_S0_Zct"
   },
   "outputs": [
    {
     "data": {
      "text/plain": [
       "3826"
      ]
     },
     "execution_count": 12,
     "metadata": {},
     "output_type": "execute_result"
    }
   ],
   "source": [
    "df.duplicated().sum() # подсчёт явных дубликатов"
   ]
  },
  {
   "cell_type": "markdown",
   "metadata": {
    "deletable": false,
    "editable": false,
    "id": "Ot25h6XR_Zct",
    "tags": [
     "start_task"
    ]
   },
   "source": [
    "**Задание 13**\n",
    "\n",
    "Вызовите специальный метод `pandas`, чтобы удалить явные дубликаты:"
   ]
  },
  {
   "cell_type": "code",
   "execution_count": 13,
   "metadata": {
    "deletable": false,
    "id": "exFHq6tt_Zct"
   },
   "outputs": [],
   "source": [
    "df = df.drop_duplicates() # удаление явных дубликатов"
   ]
  },
  {
   "cell_type": "markdown",
   "metadata": {
    "deletable": false,
    "editable": false,
    "id": "Im2YwBEG_Zct",
    "tags": [
     "start_task"
    ]
   },
   "source": [
    "**Задание 14**\n",
    "\n",
    "Ещё раз посчитайте явные дубликаты в таблице — убедитесь, что полностью от них избавились:"
   ]
  },
  {
   "cell_type": "code",
   "execution_count": 14,
   "metadata": {
    "deletable": false,
    "id": "-8PuNWQ0_Zct"
   },
   "outputs": [
    {
     "data": {
      "text/plain": [
       "0"
      ]
     },
     "execution_count": 14,
     "metadata": {},
     "output_type": "execute_result"
    }
   ],
   "source": [
    "df.duplicated().sum() # проверка на отсутствие дубликатов"
   ]
  },
  {
   "cell_type": "markdown",
   "metadata": {
    "deletable": false,
    "editable": false,
    "id": "QlFBsxAr_Zct"
   },
   "source": [
    "Теперь избавьтесь от неявных дубликатов в колонке `genre`. Например, название одного и того же жанра может быть записано немного по-разному. Такие ошибки тоже повлияют на результат исследования."
   ]
  },
  {
   "cell_type": "markdown",
   "metadata": {
    "deletable": false,
    "editable": false,
    "id": "eSjWwsOh_Zct",
    "tags": [
     "start_task"
    ]
   },
   "source": [
    "**Задание 15**\n",
    "\n",
    "Выведите на экран список уникальных названий жанров, отсортированный в алфавитном порядке. Для этого:\n",
    "* извлеките нужный столбец датафрейма;\n",
    "* примените к нему метод сортировки;\n",
    "* для отсортированного столбца вызовите метод, который вернёт уникальные значения из столбца."
   ]
  },
  {
   "cell_type": "code",
   "execution_count": 15,
   "metadata": {
    "deletable": false,
    "id": "JIUcqzZN_Zct"
   },
   "outputs": [
    {
     "name": "stdout",
     "output_type": "stream",
     "text": [
      "['acid' 'acoustic' 'action' 'adult' 'africa' 'afrikaans' 'alternative'\n",
      " 'alternativepunk' 'ambient' 'americana' 'animated' 'anime' 'arabesk'\n",
      " 'arabic' 'arena' 'argentinetango' 'art' 'audiobook' 'author' 'avantgarde'\n",
      " 'axé' 'baile' 'balkan' 'beats' 'bigroom' 'black' 'bluegrass' 'blues'\n",
      " 'bollywood' 'bossa' 'brazilian' 'breakbeat' 'breaks' 'broadway'\n",
      " 'cantautori' 'cantopop' 'canzone' 'caribbean' 'caucasian' 'celtic'\n",
      " 'chamber' 'chanson' 'children' 'chill' 'chinese' 'choral' 'christian'\n",
      " 'christmas' 'classical' 'classicmetal' 'club' 'colombian' 'comedy'\n",
      " 'conjazz' 'contemporary' 'country' 'cuban' 'dance' 'dancehall' 'dancepop'\n",
      " 'dark' 'death' 'deep' 'deutschrock' 'deutschspr' 'dirty' 'disco' 'dnb'\n",
      " 'documentary' 'downbeat' 'downtempo' 'drum' 'dub' 'dubstep' 'eastern'\n",
      " 'easy' 'electronic' 'electropop' 'emo' 'entehno' 'epicmetal' 'estrada'\n",
      " 'ethnic' 'eurofolk' 'european' 'experimental' 'extrememetal' 'fado'\n",
      " 'fairytail' 'film' 'fitness' 'flamenco' 'folk' 'folklore' 'folkmetal'\n",
      " 'folkrock' 'folktronica' 'forró' 'frankreich' 'französisch' 'french'\n",
      " 'funk' 'future' 'gangsta' 'garage' 'german' 'ghazal' 'gitarre' 'glitch'\n",
      " 'gospel' 'gothic' 'grime' 'grunge' 'gypsy' 'handsup' \"hard'n'heavy\"\n",
      " 'hardcore' 'hardstyle' 'hardtechno' 'hip' 'hip-hop' 'hiphop' 'historisch'\n",
      " 'holiday' 'hop' 'horror' 'house' 'hymn' 'idm' 'independent' 'indian'\n",
      " 'indie' 'indipop' 'industrial' 'inspirational' 'instrumental'\n",
      " 'international' 'irish' 'jam' 'japanese' 'jazz' 'jewish' 'jpop' 'jungle'\n",
      " 'k-pop' 'karadeniz' 'karaoke' 'kayokyoku' 'korean' 'laiko' 'latin'\n",
      " 'latino' 'leftfield' 'local' 'lounge' 'loungeelectronic' 'lovers'\n",
      " 'malaysian' 'mandopop' 'marschmusik' 'meditative' 'mediterranean'\n",
      " 'melodic' 'metal' 'metalcore' 'mexican' 'middle' 'minimal'\n",
      " 'miscellaneous' 'modern' 'mood' 'mpb' 'muslim' 'native' 'neoklassik'\n",
      " 'neue' 'new' 'newage' 'newwave' 'nu' 'nujazz' 'numetal' 'oceania' 'old'\n",
      " 'opera' 'orchestral' 'other' 'piano' 'podcasts' 'pop' 'popdance'\n",
      " 'popelectronic' 'popeurodance' 'poprussian' 'post' 'posthardcore'\n",
      " 'postrock' 'power' 'progmetal' 'progressive' 'psychedelic' 'punjabi'\n",
      " 'punk' 'quebecois' 'ragga' 'ram' 'rancheras' 'rap' 'rave' 'reggae'\n",
      " 'reggaeton' 'regional' 'relax' 'religious' 'retro' 'rhythm' 'rnb' 'rnr'\n",
      " 'rock' 'rockabilly' 'rockalternative' 'rockindie' 'rockother' 'romance'\n",
      " 'roots' 'ruspop' 'rusrap' 'rusrock' 'russian' 'salsa' 'samba' 'scenic'\n",
      " 'schlager' 'self' 'sertanejo' 'shanson' 'shoegazing' 'showtunes' 'singer'\n",
      " 'ska' 'skarock' 'slow' 'smooth' 'soft' 'soul' 'soulful' 'sound'\n",
      " 'soundtrack' 'southern' 'specialty' 'speech' 'spiritual' 'sport'\n",
      " 'stonerrock' 'surf' 'swing' 'synthpop' 'synthrock' 'sängerportrait'\n",
      " 'tango' 'tanzorchester' 'taraftar' 'tatar' 'tech' 'techno' 'teen'\n",
      " 'thrash' 'top' 'traditional' 'tradjazz' 'trance' 'tribal' 'trip'\n",
      " 'triphop' 'tropical' 'türk' 'türkçe' 'ukrrock' 'unknown' 'urban' 'uzbek'\n",
      " 'variété' 'vi' 'videogame' 'vocal' 'western' 'world' 'worldbeat' 'ïîï'\n",
      " 'электроника']\n"
     ]
    }
   ],
   "source": [
    "unique_genre=df['genre'].sort_values()\n",
    "print(unique_genre.unique()) # Просмотр уникальных названий жанров"
   ]
  },
  {
   "cell_type": "markdown",
   "metadata": {
    "deletable": false,
    "editable": false,
    "id": "qej-Qmuo_Zct",
    "tags": [
     "start_task"
    ]
   },
   "source": [
    "**Задание 16**\n",
    "\n",
    "Просмотрите список и найдите неявные дубликаты названия `hiphop`. Это могут быть названия с ошибками или альтернативные названия того же жанра.\n",
    "\n",
    "Вы увидите следующие неявные дубликаты:\n",
    "* *hip*,\n",
    "* *hop*,\n",
    "* *hip-hop*.\n",
    "\n",
    "Чтобы очистить от них таблицу, используйте метод `replace()` с двумя аргументами: списком строк-дубликатов (включающий *hip*, *hop* и *hip-hop*) и строкой с правильным значением. Вам нужно исправить колонку `genre` в таблице `df`: заменить каждое значение из списка дубликатов на верное. Вместо `hip`, `hop` и `hip-hop` в таблице должно быть значение `hiphop`:"
   ]
  },
  {
   "cell_type": "code",
   "execution_count": 16,
   "metadata": {
    "deletable": false,
    "id": "ErNDkmns_Zct"
   },
   "outputs": [],
   "source": [
    "df['genre'] = df['genre'].replace(['hip', 'hop', 'hip-hop'] , 'hiphop')# Устранение неявных дубликатов"
   ]
  },
  {
   "cell_type": "markdown",
   "metadata": {
    "deletable": false,
    "editable": false,
    "id": "zQKF16_RG15m",
    "tags": [
     "start_task"
    ]
   },
   "source": [
    "**Задание 17**\n",
    "\n",
    "Проверьте, что заменили неправильные названия:\n",
    "\n",
    "*   *hip*,\n",
    "*   *hop*,\n",
    "*   *hip-hop*.\n",
    "\n",
    "Выведите отсортированный список уникальных значений столбца `genre`:"
   ]
  },
  {
   "cell_type": "code",
   "execution_count": 17,
   "metadata": {
    "deletable": false,
    "id": "wvixALnFG15m"
   },
   "outputs": [
    {
     "data": {
      "text/plain": [
       "array(['acid', 'acoustic', 'action', 'adult', 'africa', 'afrikaans',\n",
       "       'alternative', 'alternativepunk', 'ambient', 'americana',\n",
       "       'animated', 'anime', 'arabesk', 'arabic', 'arena',\n",
       "       'argentinetango', 'art', 'audiobook', 'author', 'avantgarde',\n",
       "       'axé', 'baile', 'balkan', 'beats', 'bigroom', 'black', 'bluegrass',\n",
       "       'blues', 'bollywood', 'bossa', 'brazilian', 'breakbeat', 'breaks',\n",
       "       'broadway', 'cantautori', 'cantopop', 'canzone', 'caribbean',\n",
       "       'caucasian', 'celtic', 'chamber', 'chanson', 'children', 'chill',\n",
       "       'chinese', 'choral', 'christian', 'christmas', 'classical',\n",
       "       'classicmetal', 'club', 'colombian', 'comedy', 'conjazz',\n",
       "       'contemporary', 'country', 'cuban', 'dance', 'dancehall',\n",
       "       'dancepop', 'dark', 'death', 'deep', 'deutschrock', 'deutschspr',\n",
       "       'dirty', 'disco', 'dnb', 'documentary', 'downbeat', 'downtempo',\n",
       "       'drum', 'dub', 'dubstep', 'eastern', 'easy', 'electronic',\n",
       "       'electropop', 'emo', 'entehno', 'epicmetal', 'estrada', 'ethnic',\n",
       "       'eurofolk', 'european', 'experimental', 'extrememetal', 'fado',\n",
       "       'fairytail', 'film', 'fitness', 'flamenco', 'folk', 'folklore',\n",
       "       'folkmetal', 'folkrock', 'folktronica', 'forró', 'frankreich',\n",
       "       'französisch', 'french', 'funk', 'future', 'gangsta', 'garage',\n",
       "       'german', 'ghazal', 'gitarre', 'glitch', 'gospel', 'gothic',\n",
       "       'grime', 'grunge', 'gypsy', 'handsup', \"hard'n'heavy\", 'hardcore',\n",
       "       'hardstyle', 'hardtechno', 'hiphop', 'historisch', 'holiday',\n",
       "       'horror', 'house', 'hymn', 'idm', 'independent', 'indian', 'indie',\n",
       "       'indipop', 'industrial', 'inspirational', 'instrumental',\n",
       "       'international', 'irish', 'jam', 'japanese', 'jazz', 'jewish',\n",
       "       'jpop', 'jungle', 'k-pop', 'karadeniz', 'karaoke', 'kayokyoku',\n",
       "       'korean', 'laiko', 'latin', 'latino', 'leftfield', 'local',\n",
       "       'lounge', 'loungeelectronic', 'lovers', 'malaysian', 'mandopop',\n",
       "       'marschmusik', 'meditative', 'mediterranean', 'melodic', 'metal',\n",
       "       'metalcore', 'mexican', 'middle', 'minimal', 'miscellaneous',\n",
       "       'modern', 'mood', 'mpb', 'muslim', 'native', 'neoklassik', 'neue',\n",
       "       'new', 'newage', 'newwave', 'nu', 'nujazz', 'numetal', 'oceania',\n",
       "       'old', 'opera', 'orchestral', 'other', 'piano', 'podcasts', 'pop',\n",
       "       'popdance', 'popelectronic', 'popeurodance', 'poprussian', 'post',\n",
       "       'posthardcore', 'postrock', 'power', 'progmetal', 'progressive',\n",
       "       'psychedelic', 'punjabi', 'punk', 'quebecois', 'ragga', 'ram',\n",
       "       'rancheras', 'rap', 'rave', 'reggae', 'reggaeton', 'regional',\n",
       "       'relax', 'religious', 'retro', 'rhythm', 'rnb', 'rnr', 'rock',\n",
       "       'rockabilly', 'rockalternative', 'rockindie', 'rockother',\n",
       "       'romance', 'roots', 'ruspop', 'rusrap', 'rusrock', 'russian',\n",
       "       'salsa', 'samba', 'scenic', 'schlager', 'self', 'sertanejo',\n",
       "       'shanson', 'shoegazing', 'showtunes', 'singer', 'ska', 'skarock',\n",
       "       'slow', 'smooth', 'soft', 'soul', 'soulful', 'sound', 'soundtrack',\n",
       "       'southern', 'specialty', 'speech', 'spiritual', 'sport',\n",
       "       'stonerrock', 'surf', 'swing', 'synthpop', 'synthrock',\n",
       "       'sängerportrait', 'tango', 'tanzorchester', 'taraftar', 'tatar',\n",
       "       'tech', 'techno', 'teen', 'thrash', 'top', 'traditional',\n",
       "       'tradjazz', 'trance', 'tribal', 'trip', 'triphop', 'tropical',\n",
       "       'türk', 'türkçe', 'ukrrock', 'unknown', 'urban', 'uzbek',\n",
       "       'variété', 'vi', 'videogame', 'vocal', 'western', 'world',\n",
       "       'worldbeat', 'ïîï', 'электроника'], dtype=object)"
      ]
     },
     "execution_count": 17,
     "metadata": {},
     "output_type": "execute_result"
    }
   ],
   "source": [
    "df['genre'].sort_values().unique() # Проверка на неявные дубликаты"
   ]
  },
  {
   "cell_type": "markdown",
   "metadata": {
    "deletable": false,
    "editable": false,
    "id": "jz6a9-7HQUDd"
   },
   "source": [
    "**Выводы**\n",
    "\n",
    "Предобработка обнаружила три проблемы в данных:\n",
    "\n",
    "- нарушения в стиле заголовков,\n",
    "- пропущенные значения,\n",
    "- дубликаты — явные и неявные.\n",
    "\n",
    "Вы исправили заголовки, чтобы упростить работу с таблицей. Без дубликатов исследование станет более точным.\n",
    "\n",
    "Пропущенные значения вы заменили на `'unknown'`. Ещё предстоит увидеть, не повредят ли исследованию пропуски в колонке `genre`.\n",
    "\n",
    "Теперь можно перейти к проверке гипотез."
   ]
  },
  {
   "cell_type": "markdown",
   "metadata": {
    "deletable": false,
    "editable": false,
    "id": "WttZHXH0SqKk"
   },
   "source": [
    "## Проверка гипотез"
   ]
  },
  {
   "cell_type": "markdown",
   "metadata": {
    "deletable": false,
    "editable": false,
    "id": "Im936VVi_Zcu"
   },
   "source": [
    "### Сравнение поведения пользователей двух столиц"
   ]
  },
  {
   "cell_type": "markdown",
   "metadata": {
    "deletable": false,
    "editable": false,
    "id": "nwt_MuaL_Zcu"
   },
   "source": [
    "Первая гипотеза утверждает, что пользователи по-разному слушают музыку в Москве и Санкт-Петербурге. Проверьте это предположение по данным о трёх днях недели — понедельнике, среде и пятнице. Для этого:\n",
    "\n",
    "* Разделите пользователей Москвы и Санкт-Петербурга.\n",
    "* Сравните, сколько треков послушала каждая группа пользователей в понедельник, среду и пятницу.\n"
   ]
  },
  {
   "cell_type": "markdown",
   "metadata": {
    "deletable": false,
    "editable": false,
    "id": "8Dw_YMmT_Zcu",
    "tags": [
     "start_task"
    ]
   },
   "source": [
    "**Задание 18**\n",
    "\n",
    "Для тренировки сначала выполните каждый из расчётов по отдельности.\n",
    "\n",
    "Оцените активность пользователей в каждом городе. Сгруппируйте данные по городу и посчитайте прослушивания в каждой группе.\n",
    "\n"
   ]
  },
  {
   "cell_type": "code",
   "execution_count": 18,
   "metadata": {
    "deletable": false,
    "id": "0_Qs96oh_Zcu"
   },
   "outputs": [
    {
     "data": {
      "text/plain": [
       "city\n",
       "Moscow              42741\n",
       "Saint-Petersburg    18512\n",
       "Name: track, dtype: int64"
      ]
     },
     "execution_count": 18,
     "metadata": {},
     "output_type": "execute_result"
    }
   ],
   "source": [
    "df.groupby('city')['track'].count()\n",
    "# Подсчёт прослушиваний в каждом городе"
   ]
  },
  {
   "cell_type": "markdown",
   "metadata": {
    "deletable": false,
    "editable": false,
    "id": "dzli3w8o_Zcu",
    "tags": [
     "start_task"
    ]
   },
   "source": [
    "В Москве прослушиваний больше, чем в Петербурге. Из этого не следует, что московские пользователи чаще слушают музыку. Просто самих пользователей в Москве больше.\n",
    "\n",
    "**Задание 19**\n",
    "\n",
    "Теперь сгруппируйте данные по дню недели и посчитайте прослушивания в понедельник, среду и пятницу. Учтите, что в данных есть информация о прослушиваниях только за эти дни.\n"
   ]
  },
  {
   "cell_type": "code",
   "execution_count": 19,
   "metadata": {
    "deletable": false,
    "id": "uZMKjiJz_Zcu"
   },
   "outputs": [
    {
     "data": {
      "text/plain": [
       "day\n",
       "Friday       21840\n",
       "Monday       21354\n",
       "Wednesday    18059\n",
       "Name: track, dtype: int64"
      ]
     },
     "execution_count": 19,
     "metadata": {},
     "output_type": "execute_result"
    }
   ],
   "source": [
    "df.groupby('day')['track'].count()\n",
    "\n",
    "#monday_listen=df[df['day']=='Monday']\n",
    "#monday_listen=monday_listen.groupby('city').count()\n",
    "#monday_listen  #ЭТО Я \"ЗАБЕЖАЛ ВПЕРЕД\" -- на изи можно посчитать без ФУНКЦИИ\n",
    "# Подсчёт прослушиваний в каждый из трёх дней\n"
   ]
  },
  {
   "cell_type": "markdown",
   "metadata": {
    "deletable": false,
    "editable": false,
    "id": "cC2tNrlL_Zcu"
   },
   "source": [
    "В среднем пользователи из двух городов менее активны по средам. Но картина может измениться, если рассмотреть каждый город в отдельности."
   ]
  },
  {
   "cell_type": "markdown",
   "metadata": {
    "deletable": false,
    "editable": false,
    "id": "POzs8bGa_Zcu",
    "tags": [
     "start_task"
    ]
   },
   "source": [
    "**Задание 20**\n",
    "\n",
    "\n",
    "Вы видели, как работает группировка по городу и по дням недели. Теперь напишите функцию, которая объединит два эти расчёта.\n",
    "\n",
    "Создайте функцию `number_tracks()`, которая посчитает прослушивания для заданного дня и города. Ей понадобятся два параметра:\n",
    "* день недели,\n",
    "* название города.\n",
    "\n",
    "В функции сохраните в переменную строки исходной таблицы, у которых значение:\n",
    "  * в колонке `day` равно параметру `day`,\n",
    "  * в колонке `city` равно параметру `city`.\n",
    "\n",
    "Для этого примените последовательную фильтрацию с логической индексацией (или сложные логические выражения в одну строку, если вы уже знакомы с ними).\n",
    "\n",
    "Затем посчитайте значения в столбце `user_id` получившейся таблицы. Результат сохраните в новую переменную. Верните эту переменную из функции."
   ]
  },
  {
   "cell_type": "code",
   "execution_count": 20,
   "metadata": {
    "deletable": false,
    "id": "Nz3GdQB1_Zcu"
   },
   "outputs": [],
   "source": [
    "# <создание функции number_tracks()>\n",
    "def number_tracks(day, city):\n",
    "    track_list = df[df['day']== day]\n",
    "    track_list = track_list[track_list['city']== city]\n",
    "    track_list_count = track_list['user_id'].count()\n",
    "    return track_list_count\n",
    "# Объявляется функция с двумя параметрами: day, city.\n",
    "# В переменной track_list сохраняются те строки таблицы df, для которых\n",
    "# значение в столбце 'day' равно параметру day и одновременно значение\n",
    "# в столбце 'city' равно параметру city (используйте последовательную фильтрацию\n",
    "# с помощью логической индексации или сложные логические выражения в одну строку, если вы уже знакомы с ними).\n",
    "# В переменной track_list_count сохраняется число значений столбца 'user_id',\n",
    "# рассчитанное методом count() для таблицы track_list.\n",
    "# Функция возвращает число - значение track_list_count.\n",
    "\n",
    "# Функция для подсчёта прослушиваний для конкретного города и дня.\n",
    "# С помощью последовательной фильтрации с логической индексацией она\n",
    "# сначала получит из исходной таблицы строки с нужным днём,\n",
    "# затем из результата отфильтрует строки с нужным городом,\n",
    "# методом count() посчитает количество значений в колонке user_id.\n",
    "# Это количество функция вернёт в качестве результата"
   ]
  },
  {
   "cell_type": "markdown",
   "metadata": {
    "deletable": false,
    "editable": false,
    "id": "ytf7xFrFJQ2r",
    "tags": [
     "start_task"
    ]
   },
   "source": [
    "**Задание 21**\n",
    "\n",
    "Вызовите `number_tracks()` шесть раз, меняя значение параметров — так, чтобы получить данные для каждого города в каждый из трёх дней."
   ]
  },
  {
   "cell_type": "code",
   "execution_count": 21,
   "metadata": {
    "deletable": false,
    "id": "rJcRATNQ_Zcu"
   },
   "outputs": [
    {
     "data": {
      "text/plain": [
       "15740"
      ]
     },
     "execution_count": 21,
     "metadata": {},
     "output_type": "execute_result"
    }
   ],
   "source": [
    "number_tracks('Monday', 'Moscow') # количество прослушиваний в Москве по понедельникам"
   ]
  },
  {
   "cell_type": "code",
   "execution_count": 22,
   "metadata": {
    "deletable": false,
    "id": "hq_ncZ5T_Zcu"
   },
   "outputs": [
    {
     "data": {
      "text/plain": [
       "5614"
      ]
     },
     "execution_count": 22,
     "metadata": {},
     "output_type": "execute_result"
    }
   ],
   "source": [
    "number_tracks('Monday', 'Saint-Petersburg') # количество прослушиваний в Санкт-Петербурге по понедельникам"
   ]
  },
  {
   "cell_type": "code",
   "execution_count": 23,
   "metadata": {
    "deletable": false,
    "id": "_NTy2VPU_Zcu"
   },
   "outputs": [
    {
     "data": {
      "text/plain": [
       "11056"
      ]
     },
     "execution_count": 23,
     "metadata": {},
     "output_type": "execute_result"
    }
   ],
   "source": [
    "number_tracks('Wednesday', 'Moscow') # количество прослушиваний в Москве по средам"
   ]
  },
  {
   "cell_type": "code",
   "execution_count": 24,
   "metadata": {
    "deletable": false,
    "id": "j2y3TAwo_Zcu"
   },
   "outputs": [
    {
     "data": {
      "text/plain": [
       "7003"
      ]
     },
     "execution_count": 24,
     "metadata": {},
     "output_type": "execute_result"
    }
   ],
   "source": [
    "number_tracks('Wednesday', 'Saint-Petersburg') # количество прослушиваний в Санкт-Петербурге по средам"
   ]
  },
  {
   "cell_type": "code",
   "execution_count": 25,
   "metadata": {
    "deletable": false,
    "id": "vYDw5u_K_Zcu"
   },
   "outputs": [
    {
     "data": {
      "text/plain": [
       "15945"
      ]
     },
     "execution_count": 25,
     "metadata": {},
     "output_type": "execute_result"
    }
   ],
   "source": [
    "number_tracks('Friday', 'Moscow')# количество прослушиваний в Москве по пятницам"
   ]
  },
  {
   "cell_type": "code",
   "execution_count": 26,
   "metadata": {
    "deletable": false,
    "id": "8_yzFtW3_Zcu"
   },
   "outputs": [
    {
     "data": {
      "text/plain": [
       "5895"
      ]
     },
     "execution_count": 26,
     "metadata": {},
     "output_type": "execute_result"
    }
   ],
   "source": [
    "number_tracks('Friday', 'Saint-Petersburg')# количество прослушиваний в Санкт-Петербурге по пятницам"
   ]
  },
  {
   "cell_type": "markdown",
   "metadata": {
    "deletable": false,
    "editable": false,
    "id": "7QXffbO-_Zcu",
    "tags": [
     "start_task"
    ]
   },
   "source": [
    "**Задание 22**\n",
    "\n",
    "С помощью конструктора `pd.DataFrame` создайте таблицу, где\n",
    "* названия колонок — `['city', 'monday', 'wednesday', 'friday']`;\n",
    "* данные — результаты, которые вы получили с помощью `number_tracks`."
   ]
  },
  {
   "cell_type": "code",
   "execution_count": 27,
   "metadata": {
    "deletable": false,
    "id": "APAcLpOr_Zcu"
   },
   "outputs": [
    {
     "data": {
      "text/html": [
       "<div>\n",
       "<style scoped>\n",
       "    .dataframe tbody tr th:only-of-type {\n",
       "        vertical-align: middle;\n",
       "    }\n",
       "\n",
       "    .dataframe tbody tr th {\n",
       "        vertical-align: top;\n",
       "    }\n",
       "\n",
       "    .dataframe thead th {\n",
       "        text-align: right;\n",
       "    }\n",
       "</style>\n",
       "<table border=\"1\" class=\"dataframe\">\n",
       "  <thead>\n",
       "    <tr style=\"text-align: right;\">\n",
       "      <th></th>\n",
       "      <th>city</th>\n",
       "      <th>monday</th>\n",
       "      <th>wednesday</th>\n",
       "      <th>friday</th>\n",
       "    </tr>\n",
       "  </thead>\n",
       "  <tbody>\n",
       "    <tr>\n",
       "      <th>0</th>\n",
       "      <td>Moscow</td>\n",
       "      <td>15740</td>\n",
       "      <td>11056</td>\n",
       "      <td>15945</td>\n",
       "    </tr>\n",
       "    <tr>\n",
       "      <th>1</th>\n",
       "      <td>Saint-Petersburg</td>\n",
       "      <td>5614</td>\n",
       "      <td>7003</td>\n",
       "      <td>5895</td>\n",
       "    </tr>\n",
       "  </tbody>\n",
       "</table>\n",
       "</div>"
      ],
      "text/plain": [
       "               city  monday  wednesday  friday\n",
       "0            Moscow   15740      11056   15945\n",
       "1  Saint-Petersburg    5614       7003    5895"
      ]
     },
     "execution_count": 27,
     "metadata": {},
     "output_type": "execute_result"
    }
   ],
   "source": [
    "data = [['Moscow', 15740, 11056, 15945],\n",
    "        ['Saint-Petersburg', 5614, 7003, 5895]]\n",
    "columns = ['city', 'monday', 'wednesday', 'friday']\n",
    "new_table = pd.DataFrame(data=data, columns=columns)\n",
    "new_table # Таблица с результатами"
   ]
  },
  {
   "cell_type": "markdown",
   "metadata": {
    "deletable": false,
    "editable": false,
    "id": "-EgPIHYu_Zcu"
   },
   "source": [
    "**Выводы**\n",
    "\n",
    "Данные показывают разницу поведения пользователей:\n",
    "\n",
    "- В Москве пик прослушиваний приходится на понедельник и пятницу, а в среду заметен спад.\n",
    "- В Петербурге, наоборот, больше слушают музыку по средам. Активность в понедельник и пятницу здесь почти в равной мере уступает среде.\n",
    "\n",
    "Значит, данные говорят в пользу первой гипотезы."
   ]
  },
  {
   "cell_type": "markdown",
   "metadata": {
    "deletable": false,
    "editable": false,
    "id": "atZAxtq4_Zcu"
   },
   "source": [
    "### Музыка в начале и в конце недели"
   ]
  },
  {
   "cell_type": "markdown",
   "metadata": {
    "deletable": false,
    "editable": false,
    "id": "eXrQqXFH_Zcu"
   },
   "source": [
    "Согласно второй гипотезе, утром в понедельник в Москве преобладают одни жанры, а в Петербурге — другие. Так же и вечером пятницы преобладают разные жанры — в зависимости от города."
   ]
  },
  {
   "cell_type": "markdown",
   "metadata": {
    "deletable": false,
    "editable": false,
    "id": "S8UcW6Hw_Zcu",
    "tags": [
     "start_task"
    ]
   },
   "source": [
    "**Задание 23**\n",
    "\n",
    "Сохраните таблицы с данными в две переменные:\n",
    "* по Москве — в `moscow_general`;\n",
    "* по Санкт-Петербургу — в `spb_general`."
   ]
  },
  {
   "cell_type": "code",
   "execution_count": 28,
   "metadata": {
    "deletable": false,
    "id": "qeaFfM_P_Zcu"
   },
   "outputs": [],
   "source": [
    "# получение таблицы moscow_general из тех строк таблицы df,\n",
    "# для которых значение в столбце 'city' равно 'Moscow'\n",
    "moscow_general = df[df['city']=='Moscow']"
   ]
  },
  {
   "cell_type": "code",
   "execution_count": 29,
   "metadata": {
    "deletable": false,
    "id": "ORaVRKto_Zcu"
   },
   "outputs": [],
   "source": [
    "# получение таблицы spb_general из тех строк таблицы df,\n",
    "# для которых значение в столбце 'city' равно 'Saint-Petersburg'\n",
    "spb_general=df[df['city']=='Saint-Petersburg']"
   ]
  },
  {
   "cell_type": "markdown",
   "metadata": {
    "deletable": false,
    "id": "MEJV-CX2_Zcu",
    "tags": [
     "start_task"
    ]
   },
   "source": [
    "**Задание 24**\n",
    "\n",
    "Создайте функцию `genre_weekday()` с четырьмя параметрами:\n",
    "* таблица (датафрейм) с данными,\n",
    "* день недели,\n",
    "* начальная временная метка в формате 'hh:mm',\n",
    "* последняя временная метка в формате 'hh:mm'.\n",
    "\n",
    "Функция должна вернуть информацию о топ-10 жанров тех треков, которые прослушивали в указанный день, в промежутке между двумя отметками времени."
   ]
  },
  {
   "cell_type": "code",
   "execution_count": 30,
   "metadata": {
    "deletable": false,
    "id": "laJT9BYl_Zcu"
   },
   "outputs": [],
   "source": [
    "# Объявление функции genre_weekday() с параметрами df, day, time1, time2,\n",
    "# которая возвращает информацию о самых популярных жанрах в указанный день в\n",
    "# заданное время:   \n",
    "# 1) в переменную genre_df сохраняются те строки переданного датафрейма df, для\n",
    "#    которых одновременно:\n",
    "#    - значение в столбце day равно значению аргумента day\n",
    "#    - значение в столбце time больше значения аргумента time1\n",
    "#    - значение в столбце time меньше значения аргумента time2\n",
    "#    Используйте последовательную фильтрацию с помощью логической индексации.\n",
    "# 2) сгруппировать датафрейм genre_df по столбцу genre, взять один из его\n",
    "#    столбцов и посчитать методом count() количество записей для каждого из\n",
    "#    присутствующих жанров, получившийся Series записать в переменную\n",
    "#    genre_df_grouped\n",
    "# 3) отсортировать genre_df_grouped по убыванию встречаемости и сохранить\n",
    "#    в переменную genre_df_sorted\n",
    "# 4) вернуть Series из 10 первых значений genre_df_sorted, это будут топ-10\n",
    "#    популярных жанров (в указанный день, в заданное время)\n",
    "\n",
    "def genre_weekday(df, day, time1, time2):\n",
    "    # последовательная фильтрация\n",
    "    # оставляем в genre_df только те строки df, у которых день равен day\n",
    "    genre_df=df[df['day']==day] # ваш код здесь\n",
    "    # оставляем в genre_df только те строки genre_df, у которых время меньше time2\n",
    "    genre_df=genre_df[genre_df['time']<time2] # ваш код здесь\n",
    "    # оставляем в genre_df только те строки genre_df, у которых время больше time1\n",
    "    genre_df=genre_df[genre_df['time']>time1] # ваш код здесь\n",
    "    # сгруппируем отфильтрованный датафрейм по столбцу с названиями жанров, возьмём столбец genre и посчитаем кол-во строк для каждого жанра методом count()\n",
    "    genre_df_grouped=genre_df.groupby('genre')['genre'].count()# ваш код здесь\n",
    "    # отсортируем результат по убыванию (чтобы в начале Series оказались самые популярные жанры)\n",
    "    genre_df_sorted=genre_df_grouped.sort_values(ascending=False) # ваш код здесь\n",
    "    # вернём Series с 10 самыми популярными жанрами в указанный отрезок времени заданного дня\n",
    "    return genre_df_sorted[:10]"
   ]
  },
  {
   "cell_type": "markdown",
   "metadata": {
    "deletable": false,
    "editable": false,
    "id": "la2s2_PF_Zcu",
    "tags": [
     "start_task"
    ]
   },
   "source": [
    "**Задание 25**\n",
    "\n",
    "\n",
    "Cравните результаты функции `genre_weekday()` для Москвы и Санкт-Петербурга в понедельник утром (с 7:00 до 11:00) и в пятницу вечером (с 17:00 до 23:00):"
   ]
  },
  {
   "cell_type": "code",
   "execution_count": 31,
   "metadata": {
    "deletable": false,
    "id": "yz7itPUQ_Zcu"
   },
   "outputs": [
    {
     "name": "stdout",
     "output_type": "stream",
     "text": [
      "genre\n",
      "pop            781\n",
      "dance          549\n",
      "electronic     480\n",
      "rock           474\n",
      "hiphop         286\n",
      "ruspop         186\n",
      "world          181\n",
      "rusrap         175\n",
      "alternative    164\n",
      "unknown        161\n",
      "Name: genre, dtype: int64\n"
     ]
    }
   ],
   "source": [
    "# вызов функции для утра понедельника в Москве (вместо df — таблица moscow_general)\n",
    "# объекты, хранящие время, являются строками и сравниваются как строки\n",
    "# пример вызова: genre_weekday(moscow_general, 'Monday', '07:00', '11:00')\n",
    "print(genre_weekday(moscow_general, 'Monday', '07:00', '11:00'))"
   ]
  },
  {
   "cell_type": "code",
   "execution_count": 32,
   "metadata": {
    "deletable": false,
    "id": "kwUcHPdy_Zcu"
   },
   "outputs": [
    {
     "data": {
      "text/plain": [
       "genre\n",
       "pop            218\n",
       "dance          182\n",
       "rock           162\n",
       "electronic     147\n",
       "hiphop          80\n",
       "ruspop          64\n",
       "alternative     58\n",
       "rusrap          55\n",
       "jazz            44\n",
       "classical       40\n",
       "Name: genre, dtype: int64"
      ]
     },
     "execution_count": 32,
     "metadata": {},
     "output_type": "execute_result"
    }
   ],
   "source": [
    "genre_weekday(spb_general, 'Monday', '07:00', '11:00') # вызов функции для утра понедельника в Петербурге (вместо df — таблица spb_general)"
   ]
  },
  {
   "cell_type": "code",
   "execution_count": 33,
   "metadata": {
    "deletable": false,
    "id": "EzXVRE1o_Zcu"
   },
   "outputs": [
    {
     "data": {
      "text/plain": [
       "genre\n",
       "pop            713\n",
       "rock           517\n",
       "dance          495\n",
       "electronic     482\n",
       "hiphop         273\n",
       "world          208\n",
       "ruspop         170\n",
       "alternative    163\n",
       "classical      163\n",
       "rusrap         142\n",
       "Name: genre, dtype: int64"
      ]
     },
     "execution_count": 33,
     "metadata": {},
     "output_type": "execute_result"
    }
   ],
   "source": [
    "genre_weekday(moscow_general, 'Friday', '17:00', '23:00')# вызов функции для вечера пятницы в Москве"
   ]
  },
  {
   "cell_type": "code",
   "execution_count": 34,
   "metadata": {
    "deletable": false,
    "id": "JZaEKu5v_Zcu"
   },
   "outputs": [
    {
     "data": {
      "text/plain": [
       "genre\n",
       "pop            256\n",
       "electronic     216\n",
       "rock           216\n",
       "dance          210\n",
       "hiphop          97\n",
       "alternative     63\n",
       "jazz            61\n",
       "classical       60\n",
       "rusrap          59\n",
       "world           54\n",
       "Name: genre, dtype: int64"
      ]
     },
     "execution_count": 34,
     "metadata": {},
     "output_type": "execute_result"
    }
   ],
   "source": [
    "genre_weekday(spb_general, 'Friday', '17:00', '23:00') # вызов функции для вечера пятницы в Петербурге"
   ]
  },
  {
   "cell_type": "markdown",
   "metadata": {
    "deletable": false,
    "editable": false,
    "id": "wrCe4MNX_Zcu"
   },
   "source": [
    "**Выводы**\n",
    "\n",
    "Если сравнить топ-10 жанров в понедельник утром, можно сделать такие выводы:\n",
    "\n",
    "1. В Москве и Петербурге слушают похожую музыку. Единственное различие — в московский рейтинг вошёл жанр “world”, а в петербургский — джаз и классика.\n",
    "\n",
    "2. В Москве пропущенных значений оказалось так много, что значение `'unknown'` заняло десятое место среди самых популярных жанров. Значит, пропущенные значения занимают существенную долю в данных и угрожают достоверности исследования.\n",
    "\n",
    "Вечер пятницы не меняет эту картину. Некоторые жанры поднимаются немного выше, другие спускаются, но в целом топ-10 остаётся тем же самым.\n",
    "\n",
    "Таким образом, вторая гипотеза подтвердилась лишь частично:\n",
    "* Пользователи слушают похожую музыку в начале недели и в конце.\n",
    "* Разница между Москвой и Петербургом не слишком выражена. В Москве чаще слушают русскую популярную музыку, в Петербурге — джаз.\n",
    "\n",
    "Однако пропуски в данных ставят под сомнение этот результат. В Москве их так много, что рейтинг топ-10 мог бы выглядеть иначе, если бы не утерянные  данные о жанрах."
   ]
  },
  {
   "cell_type": "markdown",
   "metadata": {
    "deletable": false,
    "editable": false,
    "id": "JolODAqr_Zcu"
   },
   "source": [
    "### Жанровые предпочтения в Москве и Петербурге\n",
    "\n",
    "Гипотеза: Петербург — столица рэпа, музыку этого жанра там слушают чаще, чем в Москве.  А Москва — город контрастов, в котором, тем не менее, преобладает поп-музыка."
   ]
  },
  {
   "cell_type": "markdown",
   "metadata": {
    "deletable": false,
    "editable": false,
    "id": "DlegSvaT_Zcu",
    "tags": [
     "start_task"
    ]
   },
   "source": [
    "**Задание 26**\n",
    "\n",
    "Сгруппируйте таблицу `moscow_general` по жанру и посчитайте прослушивания треков каждого жанра методом `count()`. Затем отсортируйте результат в порядке убывания и сохраните его в таблице `moscow_genres`."
   ]
  },
  {
   "cell_type": "code",
   "execution_count": 35,
   "metadata": {
    "deletable": false,
    "id": "r19lIPke_Zcu"
   },
   "outputs": [],
   "source": [
    "# одной строкой: группировка таблицы moscow_general по столбцу 'genre',\n",
    "# подсчёт числа значений 'genre' в этой группировке методом count(),\n",
    "# сортировка получившегося Series в порядке убывания и сохранение в moscow_genres\n",
    "moscow_genres=moscow_general.groupby('genre')['genre'].count().sort_values(ascending=False)"
   ]
  },
  {
   "cell_type": "markdown",
   "metadata": {
    "deletable": false,
    "editable": false,
    "id": "6kMuomxTiIr8",
    "tags": [
     "start_task"
    ]
   },
   "source": [
    "**Задание 27**\n",
    "\n",
    "Выведите на экран первые десять строк `moscow_genres`:"
   ]
  },
  {
   "cell_type": "code",
   "execution_count": 36,
   "metadata": {
    "deletable": false,
    "id": "WhCSooF8_Zcv"
   },
   "outputs": [
    {
     "data": {
      "text/plain": [
       "genre\n",
       "pop            5892\n",
       "dance          4435\n",
       "rock           3965\n",
       "electronic     3786\n",
       "hiphop         2096\n",
       "classical      1616\n",
       "world          1432\n",
       "alternative    1379\n",
       "ruspop         1372\n",
       "rusrap         1161\n",
       "Name: genre, dtype: int64"
      ]
     },
     "execution_count": 36,
     "metadata": {},
     "output_type": "execute_result"
    }
   ],
   "source": [
    "moscow_genres[:10] # просмотр первых 10 строк moscow_genres"
   ]
  },
  {
   "cell_type": "markdown",
   "metadata": {
    "deletable": false,
    "editable": false,
    "id": "cnPG2vnN_Zcv",
    "tags": [
     "start_task"
    ]
   },
   "source": [
    "**Задание 28**\n",
    "\n",
    "\n",
    "Теперь повторите то же и для Петербурга.\n",
    "\n",
    "Сгруппируйте таблицу `spb_general` по жанру. Посчитайте прослушивания треков каждого жанра. Результат отсортируйте в порядке убывания и сохраните в таблице `spb_genres`:\n"
   ]
  },
  {
   "cell_type": "code",
   "execution_count": 37,
   "metadata": {
    "deletable": false,
    "id": "gluLIpE7_Zcv"
   },
   "outputs": [],
   "source": [
    "# одной строкой: группировка таблицы spb_general по столбцу 'genre',\n",
    "# подсчёт числа значений 'genre' в этой группировке методом count(),\n",
    "# сортировка получившегося Series в порядке убывания и сохранение в spb_genres\n",
    "spb_genres=spb_general.groupby('genre')['genre'].count().sort_values(ascending=False)"
   ]
  },
  {
   "cell_type": "markdown",
   "metadata": {
    "deletable": false,
    "editable": false,
    "id": "5Doha_ODgyQ8",
    "tags": [
     "start_task"
    ]
   },
   "source": [
    "**Задание 29**\n",
    "\n",
    "Выведите на экран первые десять строк `spb_genres`:"
   ]
  },
  {
   "cell_type": "code",
   "execution_count": 38,
   "metadata": {
    "deletable": false,
    "id": "uaGJHjVU_Zcv"
   },
   "outputs": [
    {
     "data": {
      "text/plain": [
       "genre\n",
       "pop            2431\n",
       "dance          1932\n",
       "rock           1879\n",
       "electronic     1736\n",
       "hiphop          960\n",
       "alternative     649\n",
       "classical       646\n",
       "rusrap          564\n",
       "ruspop          538\n",
       "world           515\n",
       "Name: genre, dtype: int64"
      ]
     },
     "execution_count": 38,
     "metadata": {},
     "output_type": "execute_result"
    }
   ],
   "source": [
    "spb_genres[:10] # просмотр первых 10 строк spb_genres"
   ]
  },
  {
   "cell_type": "markdown",
   "metadata": {
    "deletable": false,
    "editable": false,
    "id": "RY51YJYu_Zcv"
   },
   "source": [
    "**Выводы**"
   ]
  },
  {
   "cell_type": "markdown",
   "metadata": {
    "deletable": false,
    "editable": false,
    "id": "nVhnJEm__Zcv"
   },
   "source": [
    "Гипотеза частично подтвердилась:\n",
    "* Поп-музыка — самый популярный жанр в Москве, как и предполагала гипотеза. Более того, в топ-10 жанров встречается близкий жанр — русская популярная музыка.\n",
    "* Вопреки ожиданиям, рэп одинаково популярен в Москве и Петербурге.\n"
   ]
  },
  {
   "cell_type": "markdown",
   "metadata": {
    "deletable": false,
    "editable": false,
    "id": "ykKQ0N65_Zcv"
   },
   "source": [
    "## Итоги исследования"
   ]
  },
  {
   "cell_type": "markdown",
   "metadata": {
    "deletable": false,
    "editable": false,
    "id": "tjUwbHb3_Zcv"
   },
   "source": [
    "Вы проверили три гипотезы и установили:\n",
    "\n",
    "1. День недели по-разному влияет на активность пользователей в Москве и Петербурге.\n",
    "\n",
    "Первая гипотеза полностью подтвердилась.\n",
    "\n",
    "2. Музыкальные предпочтения не сильно меняются в течение недели — будь то Москва или Петербург. Небольшие различия заметны в начале недели, по понедельникам:\n",
    "* в Москве слушают музыку жанра “world”,\n",
    "* в Петербурге — джаз и классику.\n",
    "\n",
    "Таким образом, вторая гипотеза подтвердилась лишь отчасти. Этот результат мог оказаться иным, если бы не пропуски в данных.\n",
    "\n",
    "3. Во вкусах пользователей Москвы и Петербурга больше общего, чем различий. Вопреки ожиданиям, предпочтения жанров в Петербурге напоминают московские.\n",
    "\n",
    "Третья гипотеза не подтвердилась. Если различия в предпочтениях и существуют, на основной массе пользователей они незаметны.\n",
    "\n",
    "**На практике исследования содержат проверки статистических гипотез.**\n",
    "Из данных одного сервиса не всегда можно сделать вывод о всех жителях города.\n",
    "Проверки статистических гипотез покажут, насколько они достоверны, исходя из имеющихся данных.\n",
    "С методами проверок гипотез вы ещё познакомитесь в следующих темах."
   ]
  },
  {
   "cell_type": "markdown",
   "metadata": {},
   "source": [
    "вторая гипотеза под Большим Вопросом, так как жанр 'world' даже в топ-5 не вхож... и исследование требует конкретизации! мало итогов, чтобы делать четкие выводы. "
   ]
  }
 ],
 "metadata": {
  "ExecuteTimeLog": [
   {
    "duration": 400,
    "start_time": "2023-11-06T19:13:53.049Z"
   },
   {
    "duration": 3,
    "start_time": "2023-11-06T19:13:57.587Z"
   },
   {
    "duration": 62,
    "start_time": "2023-11-06T19:15:01.604Z"
   },
   {
    "duration": 231,
    "start_time": "2023-11-06T19:15:03.740Z"
   },
   {
    "duration": 18,
    "start_time": "2023-11-06T19:15:06.066Z"
   },
   {
    "duration": 37,
    "start_time": "2023-11-06T19:15:44.151Z"
   },
   {
    "duration": 3,
    "start_time": "2023-11-06T19:18:29.035Z"
   },
   {
    "duration": 87,
    "start_time": "2023-11-06T19:21:05.708Z"
   },
   {
    "duration": 3,
    "start_time": "2023-11-06T19:25:03.298Z"
   },
   {
    "duration": 399,
    "start_time": "2023-11-07T05:16:09.025Z"
   },
   {
    "duration": 243,
    "start_time": "2023-11-07T05:16:09.427Z"
   },
   {
    "duration": 17,
    "start_time": "2023-11-07T05:16:09.672Z"
   },
   {
    "duration": 32,
    "start_time": "2023-11-07T05:16:09.691Z"
   },
   {
    "duration": 11,
    "start_time": "2023-11-07T05:16:09.725Z"
   },
   {
    "duration": 9,
    "start_time": "2023-11-07T05:16:09.738Z"
   },
   {
    "duration": 13,
    "start_time": "2023-11-07T05:16:09.749Z"
   },
   {
    "duration": 7,
    "start_time": "2023-11-07T05:16:09.764Z"
   },
   {
    "duration": 5,
    "start_time": "2023-11-07T05:16:09.773Z"
   },
   {
    "duration": 4,
    "start_time": "2023-11-07T05:16:09.780Z"
   },
   {
    "duration": 4,
    "start_time": "2023-11-07T05:16:09.786Z"
   },
   {
    "duration": 10,
    "start_time": "2023-11-07T05:16:09.792Z"
   },
   {
    "duration": 10,
    "start_time": "2023-11-07T05:16:09.804Z"
   },
   {
    "duration": 16,
    "start_time": "2023-11-07T05:16:09.816Z"
   },
   {
    "duration": 10,
    "start_time": "2023-11-07T05:16:09.834Z"
   },
   {
    "duration": 12,
    "start_time": "2023-11-07T05:16:09.846Z"
   },
   {
    "duration": 5,
    "start_time": "2023-11-07T05:16:09.860Z"
   },
   {
    "duration": 9,
    "start_time": "2023-11-07T05:16:09.866Z"
   },
   {
    "duration": 10,
    "start_time": "2023-11-07T05:16:09.877Z"
   },
   {
    "duration": 5,
    "start_time": "2023-11-07T05:16:09.889Z"
   },
   {
    "duration": 7,
    "start_time": "2023-11-07T05:16:09.896Z"
   },
   {
    "duration": 3,
    "start_time": "2023-11-07T05:16:09.906Z"
   },
   {
    "duration": 10,
    "start_time": "2023-11-07T05:16:09.911Z"
   },
   {
    "duration": 6,
    "start_time": "2023-11-07T05:16:09.922Z"
   },
   {
    "duration": 17,
    "start_time": "2023-11-07T05:16:09.929Z"
   },
   {
    "duration": 6,
    "start_time": "2023-11-07T05:16:09.948Z"
   },
   {
    "duration": 6,
    "start_time": "2023-11-07T05:16:09.955Z"
   },
   {
    "duration": 4,
    "start_time": "2023-11-07T05:16:09.964Z"
   },
   {
    "duration": 13,
    "start_time": "2023-11-07T05:16:09.969Z"
   },
   {
    "duration": 175,
    "start_time": "2023-11-07T05:16:09.984Z"
   },
   {
    "duration": 0,
    "start_time": "2023-11-07T05:16:10.161Z"
   },
   {
    "duration": 0,
    "start_time": "2023-11-07T05:16:10.162Z"
   },
   {
    "duration": 0,
    "start_time": "2023-11-07T05:16:10.163Z"
   },
   {
    "duration": 0,
    "start_time": "2023-11-07T05:16:10.163Z"
   },
   {
    "duration": 0,
    "start_time": "2023-11-07T05:16:10.164Z"
   },
   {
    "duration": 0,
    "start_time": "2023-11-07T05:16:10.165Z"
   },
   {
    "duration": 0,
    "start_time": "2023-11-07T05:16:10.166Z"
   },
   {
    "duration": 0,
    "start_time": "2023-11-07T05:16:10.167Z"
   },
   {
    "duration": 64,
    "start_time": "2023-11-07T05:16:51.735Z"
   },
   {
    "duration": 38,
    "start_time": "2023-11-07T05:17:14.834Z"
   },
   {
    "duration": 4,
    "start_time": "2023-11-07T05:17:30.136Z"
   },
   {
    "duration": 43,
    "start_time": "2023-11-07T05:18:18.799Z"
   },
   {
    "duration": 3,
    "start_time": "2023-11-07T05:18:22.967Z"
   },
   {
    "duration": 82,
    "start_time": "2023-11-07T05:19:12.954Z"
   },
   {
    "duration": 14,
    "start_time": "2023-11-07T05:19:33.129Z"
   },
   {
    "duration": 4,
    "start_time": "2023-11-07T05:19:35.678Z"
   },
   {
    "duration": 43,
    "start_time": "2023-11-07T05:20:31.487Z"
   },
   {
    "duration": 4,
    "start_time": "2023-11-07T05:20:33.909Z"
   },
   {
    "duration": 43,
    "start_time": "2023-11-07T06:09:13.501Z"
   },
   {
    "duration": 3,
    "start_time": "2023-11-07T06:09:17.079Z"
   },
   {
    "duration": 32,
    "start_time": "2023-11-07T06:10:09.763Z"
   },
   {
    "duration": 44,
    "start_time": "2023-11-07T06:10:29.884Z"
   },
   {
    "duration": 34,
    "start_time": "2023-11-07T06:10:46.836Z"
   },
   {
    "duration": 50,
    "start_time": "2023-11-07T06:13:48.735Z"
   },
   {
    "duration": 2505,
    "start_time": "2023-11-07T06:26:15.511Z"
   },
   {
    "duration": 4,
    "start_time": "2023-11-07T06:26:36.059Z"
   },
   {
    "duration": 29,
    "start_time": "2023-11-07T06:26:54.966Z"
   },
   {
    "duration": 16,
    "start_time": "2023-11-07T06:28:12.236Z"
   },
   {
    "duration": 3,
    "start_time": "2023-11-07T06:28:40.383Z"
   },
   {
    "duration": 28,
    "start_time": "2023-11-07T06:37:52.975Z"
   },
   {
    "duration": 14,
    "start_time": "2023-11-07T06:37:55.706Z"
   },
   {
    "duration": 27,
    "start_time": "2023-11-07T06:38:01.408Z"
   },
   {
    "duration": 85,
    "start_time": "2023-11-07T06:41:06.415Z"
   },
   {
    "duration": 4,
    "start_time": "2023-11-07T06:41:23.695Z"
   },
   {
    "duration": 50,
    "start_time": "2023-11-07T06:41:27.593Z"
   },
   {
    "duration": 4,
    "start_time": "2023-11-07T06:41:31.118Z"
   },
   {
    "duration": 30,
    "start_time": "2023-11-07T06:41:35.913Z"
   },
   {
    "duration": 3,
    "start_time": "2023-11-07T06:41:53.759Z"
   },
   {
    "duration": 30,
    "start_time": "2023-11-07T06:41:56.553Z"
   },
   {
    "duration": 4,
    "start_time": "2023-11-07T06:42:42.190Z"
   },
   {
    "duration": 11,
    "start_time": "2023-11-07T06:42:47.055Z"
   },
   {
    "duration": 6,
    "start_time": "2023-11-07T06:45:06.470Z"
   },
   {
    "duration": 1746,
    "start_time": "2023-11-07T06:45:26.326Z"
   },
   {
    "duration": 753,
    "start_time": "2023-11-07T06:46:33.121Z"
   },
   {
    "duration": 697,
    "start_time": "2023-11-07T06:47:22.799Z"
   },
   {
    "duration": 2,
    "start_time": "2023-11-07T06:52:22.488Z"
   },
   {
    "duration": 234,
    "start_time": "2023-11-07T06:52:22.493Z"
   },
   {
    "duration": 12,
    "start_time": "2023-11-07T06:52:22.730Z"
   },
   {
    "duration": 60,
    "start_time": "2023-11-07T06:52:22.744Z"
   },
   {
    "duration": 21,
    "start_time": "2023-11-07T06:52:22.806Z"
   },
   {
    "duration": 12,
    "start_time": "2023-11-07T06:52:22.830Z"
   },
   {
    "duration": 49,
    "start_time": "2023-11-07T06:52:22.844Z"
   },
   {
    "duration": 17,
    "start_time": "2023-11-07T06:52:22.895Z"
   },
   {
    "duration": 37,
    "start_time": "2023-11-07T06:52:22.915Z"
   },
   {
    "duration": 1623,
    "start_time": "2023-11-07T06:52:22.954Z"
   },
   {
    "duration": 0,
    "start_time": "2023-11-07T06:52:24.579Z"
   },
   {
    "duration": 17,
    "start_time": "2023-11-07T06:59:58.055Z"
   },
   {
    "duration": 14,
    "start_time": "2023-11-07T07:00:01.599Z"
   },
   {
    "duration": 264,
    "start_time": "2023-11-07T07:02:27.412Z"
   },
   {
    "duration": 14,
    "start_time": "2023-11-07T07:02:39.834Z"
   },
   {
    "duration": 1468,
    "start_time": "2023-11-07T07:02:48.878Z"
   },
   {
    "duration": 1840,
    "start_time": "2023-11-07T07:03:01.011Z"
   },
   {
    "duration": 99,
    "start_time": "2023-11-07T07:03:19.167Z"
   },
   {
    "duration": 3910,
    "start_time": "2023-11-07T07:03:24.356Z"
   },
   {
    "duration": 390,
    "start_time": "2023-11-07T13:50:00.352Z"
   },
   {
    "duration": 278,
    "start_time": "2023-11-07T13:50:00.744Z"
   },
   {
    "duration": 19,
    "start_time": "2023-11-07T13:50:01.023Z"
   },
   {
    "duration": 85,
    "start_time": "2023-11-07T13:50:01.044Z"
   },
   {
    "duration": 23,
    "start_time": "2023-11-07T13:50:01.130Z"
   },
   {
    "duration": 114,
    "start_time": "2023-11-07T13:50:01.155Z"
   },
   {
    "duration": 90,
    "start_time": "2023-11-07T13:50:01.270Z"
   },
   {
    "duration": 65,
    "start_time": "2023-11-07T13:50:01.362Z"
   },
   {
    "duration": 111,
    "start_time": "2023-11-07T13:50:01.429Z"
   },
   {
    "duration": 3483,
    "start_time": "2023-11-07T13:50:01.543Z"
   },
   {
    "duration": 0,
    "start_time": "2023-11-07T13:50:05.029Z"
   },
   {
    "duration": 0,
    "start_time": "2023-11-07T13:50:05.031Z"
   },
   {
    "duration": 0,
    "start_time": "2023-11-07T13:50:05.033Z"
   },
   {
    "duration": 0,
    "start_time": "2023-11-07T13:50:05.034Z"
   },
   {
    "duration": 0,
    "start_time": "2023-11-07T13:50:05.035Z"
   },
   {
    "duration": 0,
    "start_time": "2023-11-07T13:50:05.037Z"
   },
   {
    "duration": 0,
    "start_time": "2023-11-07T13:50:05.039Z"
   },
   {
    "duration": 0,
    "start_time": "2023-11-07T13:50:05.040Z"
   },
   {
    "duration": 0,
    "start_time": "2023-11-07T13:50:05.041Z"
   },
   {
    "duration": 0,
    "start_time": "2023-11-07T13:50:05.042Z"
   },
   {
    "duration": 0,
    "start_time": "2023-11-07T13:50:05.043Z"
   },
   {
    "duration": 0,
    "start_time": "2023-11-07T13:50:05.044Z"
   },
   {
    "duration": 0,
    "start_time": "2023-11-07T13:50:05.046Z"
   },
   {
    "duration": 0,
    "start_time": "2023-11-07T13:50:05.047Z"
   },
   {
    "duration": 0,
    "start_time": "2023-11-07T13:50:05.048Z"
   },
   {
    "duration": 0,
    "start_time": "2023-11-07T13:50:05.050Z"
   },
   {
    "duration": 0,
    "start_time": "2023-11-07T13:50:05.052Z"
   },
   {
    "duration": 0,
    "start_time": "2023-11-07T13:50:05.053Z"
   },
   {
    "duration": 0,
    "start_time": "2023-11-07T13:50:05.054Z"
   },
   {
    "duration": 0,
    "start_time": "2023-11-07T13:50:05.055Z"
   },
   {
    "duration": 0,
    "start_time": "2023-11-07T13:50:05.056Z"
   },
   {
    "duration": 0,
    "start_time": "2023-11-07T13:50:05.058Z"
   },
   {
    "duration": 0,
    "start_time": "2023-11-07T13:50:05.060Z"
   },
   {
    "duration": 0,
    "start_time": "2023-11-07T13:50:05.061Z"
   },
   {
    "duration": 0,
    "start_time": "2023-11-07T13:50:05.063Z"
   },
   {
    "duration": 0,
    "start_time": "2023-11-07T13:50:05.064Z"
   },
   {
    "duration": 0,
    "start_time": "2023-11-07T13:50:05.109Z"
   },
   {
    "duration": 0,
    "start_time": "2023-11-07T13:50:05.110Z"
   },
   {
    "duration": 1158,
    "start_time": "2023-11-07T13:52:18.321Z"
   },
   {
    "duration": 11,
    "start_time": "2023-11-07T13:52:58.791Z"
   },
   {
    "duration": 3,
    "start_time": "2023-11-07T13:53:06.764Z"
   },
   {
    "duration": 42,
    "start_time": "2023-11-07T13:53:17.083Z"
   },
   {
    "duration": 11,
    "start_time": "2023-11-07T13:53:39.070Z"
   },
   {
    "duration": 10,
    "start_time": "2023-11-07T13:53:56.845Z"
   },
   {
    "duration": 8,
    "start_time": "2023-11-07T13:54:07.924Z"
   },
   {
    "duration": 14,
    "start_time": "2023-11-07T13:54:46.856Z"
   },
   {
    "duration": 11,
    "start_time": "2023-11-07T13:55:57.257Z"
   },
   {
    "duration": 49,
    "start_time": "2023-11-07T13:56:23.133Z"
   },
   {
    "duration": 21,
    "start_time": "2023-11-07T13:56:36.722Z"
   },
   {
    "duration": 11,
    "start_time": "2023-11-07T13:56:40.726Z"
   },
   {
    "duration": 38,
    "start_time": "2023-11-07T13:56:56.153Z"
   },
   {
    "duration": 5,
    "start_time": "2023-11-07T13:57:51.389Z"
   },
   {
    "duration": 81,
    "start_time": "2023-11-07T13:57:58.744Z"
   },
   {
    "duration": 71,
    "start_time": "2023-11-07T13:58:06.374Z"
   },
   {
    "duration": 15,
    "start_time": "2023-11-07T13:58:16.678Z"
   },
   {
    "duration": 30,
    "start_time": "2023-11-07T13:58:26.622Z"
   },
   {
    "duration": 15,
    "start_time": "2023-11-07T13:59:36.988Z"
   },
   {
    "duration": 7,
    "start_time": "2023-11-07T13:59:42.522Z"
   },
   {
    "duration": 18,
    "start_time": "2023-11-07T13:59:48.097Z"
   },
   {
    "duration": 151,
    "start_time": "2023-11-07T14:04:29.580Z"
   },
   {
    "duration": 11,
    "start_time": "2023-11-07T14:05:01.461Z"
   },
   {
    "duration": 11,
    "start_time": "2023-11-07T14:05:16.953Z"
   },
   {
    "duration": 12,
    "start_time": "2023-11-07T14:10:49.441Z"
   },
   {
    "duration": 530,
    "start_time": "2023-11-07T14:11:47.259Z"
   },
   {
    "duration": 35,
    "start_time": "2023-11-07T14:12:01.930Z"
   },
   {
    "duration": 28,
    "start_time": "2023-11-07T14:12:37.543Z"
   },
   {
    "duration": 29,
    "start_time": "2023-11-07T14:14:06.251Z"
   },
   {
    "duration": 31,
    "start_time": "2023-11-07T14:14:12.141Z"
   },
   {
    "duration": 27,
    "start_time": "2023-11-07T14:14:47.660Z"
   },
   {
    "duration": 7,
    "start_time": "2023-11-07T14:15:17.972Z"
   },
   {
    "duration": 78,
    "start_time": "2023-11-07T14:16:19.756Z"
   },
   {
    "duration": 64,
    "start_time": "2023-11-07T14:16:35.536Z"
   },
   {
    "duration": 69,
    "start_time": "2023-11-07T14:18:02.922Z"
   },
   {
    "duration": 64,
    "start_time": "2023-11-07T14:18:21.038Z"
   },
   {
    "duration": 12,
    "start_time": "2023-11-07T14:21:39.595Z"
   },
   {
    "duration": 10,
    "start_time": "2023-11-07T14:22:09.887Z"
   },
   {
    "duration": 8,
    "start_time": "2023-11-07T14:22:22.124Z"
   },
   {
    "duration": 9,
    "start_time": "2023-11-07T14:22:28.625Z"
   },
   {
    "duration": 7,
    "start_time": "2023-11-07T14:22:33.497Z"
   },
   {
    "duration": 11,
    "start_time": "2023-11-07T14:22:59.002Z"
   },
   {
    "duration": 7,
    "start_time": "2023-11-07T14:23:07.840Z"
   },
   {
    "duration": 7,
    "start_time": "2023-11-07T14:23:14.497Z"
   },
   {
    "duration": 2,
    "start_time": "2023-11-07T14:23:20.101Z"
   },
   {
    "duration": 228,
    "start_time": "2023-11-07T14:23:20.107Z"
   },
   {
    "duration": 12,
    "start_time": "2023-11-07T14:23:20.337Z"
   },
   {
    "duration": 49,
    "start_time": "2023-11-07T14:23:20.350Z"
   },
   {
    "duration": 7,
    "start_time": "2023-11-07T14:23:20.407Z"
   },
   {
    "duration": 25,
    "start_time": "2023-11-07T14:23:20.417Z"
   },
   {
    "duration": 28,
    "start_time": "2023-11-07T14:23:20.444Z"
   },
   {
    "duration": 28,
    "start_time": "2023-11-07T14:23:20.473Z"
   },
   {
    "duration": 52,
    "start_time": "2023-11-07T14:23:20.503Z"
   },
   {
    "duration": 53,
    "start_time": "2023-11-07T14:23:20.557Z"
   },
   {
    "duration": 34,
    "start_time": "2023-11-07T14:23:20.615Z"
   },
   {
    "duration": 88,
    "start_time": "2023-11-07T14:23:20.651Z"
   },
   {
    "duration": 79,
    "start_time": "2023-11-07T14:23:20.741Z"
   },
   {
    "duration": 63,
    "start_time": "2023-11-07T14:23:20.822Z"
   },
   {
    "duration": 9,
    "start_time": "2023-11-07T14:23:20.888Z"
   },
   {
    "duration": 11,
    "start_time": "2023-11-07T14:23:20.911Z"
   },
   {
    "duration": 36,
    "start_time": "2023-11-07T14:23:20.929Z"
   },
   {
    "duration": 31,
    "start_time": "2023-11-07T14:23:20.966Z"
   },
   {
    "duration": 48,
    "start_time": "2023-11-07T14:23:20.998Z"
   },
   {
    "duration": 24,
    "start_time": "2023-11-07T14:23:21.048Z"
   },
   {
    "duration": 73,
    "start_time": "2023-11-07T14:23:21.074Z"
   },
   {
    "duration": 37,
    "start_time": "2023-11-07T14:23:21.148Z"
   },
   {
    "duration": 35,
    "start_time": "2023-11-07T14:23:21.187Z"
   },
   {
    "duration": 39,
    "start_time": "2023-11-07T14:23:21.224Z"
   },
   {
    "duration": 55,
    "start_time": "2023-11-07T14:23:21.264Z"
   },
   {
    "duration": 18,
    "start_time": "2023-11-07T14:23:21.323Z"
   },
   {
    "duration": 19,
    "start_time": "2023-11-07T14:23:21.343Z"
   },
   {
    "duration": 18,
    "start_time": "2023-11-07T14:23:21.364Z"
   },
   {
    "duration": 16,
    "start_time": "2023-11-07T14:23:21.386Z"
   },
   {
    "duration": 84,
    "start_time": "2023-11-07T14:23:21.404Z"
   },
   {
    "duration": 0,
    "start_time": "2023-11-07T14:23:21.489Z"
   },
   {
    "duration": 0,
    "start_time": "2023-11-07T14:23:21.490Z"
   },
   {
    "duration": 0,
    "start_time": "2023-11-07T14:23:21.491Z"
   },
   {
    "duration": 0,
    "start_time": "2023-11-07T14:23:21.492Z"
   },
   {
    "duration": 0,
    "start_time": "2023-11-07T14:23:21.493Z"
   },
   {
    "duration": 0,
    "start_time": "2023-11-07T14:23:21.494Z"
   },
   {
    "duration": 0,
    "start_time": "2023-11-07T14:23:21.496Z"
   },
   {
    "duration": 0,
    "start_time": "2023-11-07T14:23:21.497Z"
   },
   {
    "duration": 9,
    "start_time": "2023-11-07T14:24:05.164Z"
   },
   {
    "duration": 303,
    "start_time": "2023-11-07T14:26:03.327Z"
   },
   {
    "duration": 14,
    "start_time": "2023-11-07T14:26:14.689Z"
   },
   {
    "duration": 1221,
    "start_time": "2023-11-07T14:26:53.269Z"
   },
   {
    "duration": 2805,
    "start_time": "2023-11-07T14:28:12.526Z"
   },
   {
    "duration": 7,
    "start_time": "2023-11-07T14:28:28.618Z"
   },
   {
    "duration": 3,
    "start_time": "2023-11-07T14:28:34.576Z"
   },
   {
    "duration": 208,
    "start_time": "2023-11-07T14:28:34.581Z"
   },
   {
    "duration": 16,
    "start_time": "2023-11-07T14:28:34.791Z"
   },
   {
    "duration": 45,
    "start_time": "2023-11-07T14:28:34.810Z"
   },
   {
    "duration": 3,
    "start_time": "2023-11-07T14:28:34.857Z"
   },
   {
    "duration": 15,
    "start_time": "2023-11-07T14:28:34.861Z"
   },
   {
    "duration": 16,
    "start_time": "2023-11-07T14:28:34.877Z"
   },
   {
    "duration": 17,
    "start_time": "2023-11-07T14:28:34.894Z"
   },
   {
    "duration": 45,
    "start_time": "2023-11-07T14:28:34.913Z"
   },
   {
    "duration": 59,
    "start_time": "2023-11-07T14:28:34.959Z"
   },
   {
    "duration": 46,
    "start_time": "2023-11-07T14:28:35.022Z"
   },
   {
    "duration": 86,
    "start_time": "2023-11-07T14:28:35.070Z"
   },
   {
    "duration": 77,
    "start_time": "2023-11-07T14:28:35.158Z"
   },
   {
    "duration": 58,
    "start_time": "2023-11-07T14:28:35.237Z"
   },
   {
    "duration": 20,
    "start_time": "2023-11-07T14:28:35.307Z"
   },
   {
    "duration": 0,
    "start_time": "2023-11-07T14:28:35.329Z"
   },
   {
    "duration": 0,
    "start_time": "2023-11-07T14:28:35.331Z"
   },
   {
    "duration": 0,
    "start_time": "2023-11-07T14:28:35.332Z"
   },
   {
    "duration": 0,
    "start_time": "2023-11-07T14:28:35.333Z"
   },
   {
    "duration": 0,
    "start_time": "2023-11-07T14:28:35.335Z"
   },
   {
    "duration": 0,
    "start_time": "2023-11-07T14:28:35.336Z"
   },
   {
    "duration": 0,
    "start_time": "2023-11-07T14:28:35.338Z"
   },
   {
    "duration": 0,
    "start_time": "2023-11-07T14:28:35.339Z"
   },
   {
    "duration": 0,
    "start_time": "2023-11-07T14:28:35.341Z"
   },
   {
    "duration": 0,
    "start_time": "2023-11-07T14:28:35.342Z"
   },
   {
    "duration": 0,
    "start_time": "2023-11-07T14:28:35.343Z"
   },
   {
    "duration": 1,
    "start_time": "2023-11-07T14:28:35.344Z"
   },
   {
    "duration": 0,
    "start_time": "2023-11-07T14:28:35.346Z"
   },
   {
    "duration": 0,
    "start_time": "2023-11-07T14:28:35.347Z"
   },
   {
    "duration": 0,
    "start_time": "2023-11-07T14:28:35.348Z"
   },
   {
    "duration": 0,
    "start_time": "2023-11-07T14:28:35.350Z"
   },
   {
    "duration": 0,
    "start_time": "2023-11-07T14:28:35.351Z"
   },
   {
    "duration": 0,
    "start_time": "2023-11-07T14:28:35.352Z"
   },
   {
    "duration": 0,
    "start_time": "2023-11-07T14:28:35.354Z"
   },
   {
    "duration": 0,
    "start_time": "2023-11-07T14:28:35.355Z"
   },
   {
    "duration": 0,
    "start_time": "2023-11-07T14:28:35.356Z"
   },
   {
    "duration": 0,
    "start_time": "2023-11-07T14:28:35.357Z"
   },
   {
    "duration": 0,
    "start_time": "2023-11-07T14:28:35.358Z"
   },
   {
    "duration": 12,
    "start_time": "2023-11-07T14:30:45.820Z"
   },
   {
    "duration": 6,
    "start_time": "2023-11-07T14:31:04.538Z"
   },
   {
    "duration": 11,
    "start_time": "2023-11-07T14:31:11.781Z"
   },
   {
    "duration": 11,
    "start_time": "2023-11-07T14:31:35.169Z"
   },
   {
    "duration": 19,
    "start_time": "2023-11-07T14:35:39.903Z"
   },
   {
    "duration": 11,
    "start_time": "2023-11-07T14:35:48.638Z"
   },
   {
    "duration": 18,
    "start_time": "2023-11-07T14:36:00.029Z"
   },
   {
    "duration": 8,
    "start_time": "2023-11-07T14:36:15.430Z"
   },
   {
    "duration": 9,
    "start_time": "2023-11-07T14:36:33.844Z"
   },
   {
    "duration": 10,
    "start_time": "2023-11-07T14:36:45.361Z"
   },
   {
    "duration": 9,
    "start_time": "2023-11-07T14:39:08.778Z"
   },
   {
    "duration": 11,
    "start_time": "2023-11-07T14:39:22.094Z"
   },
   {
    "duration": 90,
    "start_time": "2023-11-07T14:40:20.023Z"
   },
   {
    "duration": 62,
    "start_time": "2023-11-07T14:40:25.183Z"
   },
   {
    "duration": 56,
    "start_time": "2023-11-07T14:40:45.781Z"
   },
   {
    "duration": 86,
    "start_time": "2023-11-07T14:41:01.535Z"
   },
   {
    "duration": 79,
    "start_time": "2023-11-07T14:41:03.803Z"
   },
   {
    "duration": 13,
    "start_time": "2023-11-07T14:41:06.932Z"
   },
   {
    "duration": 14,
    "start_time": "2023-11-07T14:43:47.670Z"
   },
   {
    "duration": 8,
    "start_time": "2023-11-07T14:43:55.853Z"
   },
   {
    "duration": 397,
    "start_time": "2023-11-08T09:01:54.848Z"
   },
   {
    "duration": 265,
    "start_time": "2023-11-08T09:01:55.291Z"
   },
   {
    "duration": 3,
    "start_time": "2023-11-08T09:01:59.252Z"
   },
   {
    "duration": 251,
    "start_time": "2023-11-08T09:01:59.257Z"
   },
   {
    "duration": 24,
    "start_time": "2023-11-08T09:01:59.510Z"
   },
   {
    "duration": 43,
    "start_time": "2023-11-08T09:01:59.535Z"
   },
   {
    "duration": 3,
    "start_time": "2023-11-08T09:01:59.581Z"
   },
   {
    "duration": 11,
    "start_time": "2023-11-08T09:01:59.585Z"
   },
   {
    "duration": 33,
    "start_time": "2023-11-08T09:01:59.598Z"
   },
   {
    "duration": 4,
    "start_time": "2023-11-08T09:01:59.633Z"
   },
   {
    "duration": 34,
    "start_time": "2023-11-08T09:01:59.638Z"
   },
   {
    "duration": 24,
    "start_time": "2023-11-08T09:01:59.674Z"
   },
   {
    "duration": 36,
    "start_time": "2023-11-08T09:01:59.723Z"
   },
   {
    "duration": 87,
    "start_time": "2023-11-08T09:01:59.761Z"
   },
   {
    "duration": 96,
    "start_time": "2023-11-08T09:01:59.851Z"
   },
   {
    "duration": 81,
    "start_time": "2023-11-08T09:01:59.949Z"
   },
   {
    "duration": 8,
    "start_time": "2023-11-08T09:02:00.032Z"
   },
   {
    "duration": 79,
    "start_time": "2023-11-08T09:02:00.042Z"
   },
   {
    "duration": 61,
    "start_time": "2023-11-08T09:02:00.123Z"
   },
   {
    "duration": 63,
    "start_time": "2023-11-08T09:02:00.186Z"
   },
   {
    "duration": 76,
    "start_time": "2023-11-08T09:02:00.250Z"
   },
   {
    "duration": 218,
    "start_time": "2023-11-08T09:02:00.328Z"
   },
   {
    "duration": 238,
    "start_time": "2023-11-08T09:02:00.548Z"
   },
   {
    "duration": 226,
    "start_time": "2023-11-08T09:02:00.788Z"
   },
   {
    "duration": 122,
    "start_time": "2023-11-08T09:02:01.015Z"
   },
   {
    "duration": 144,
    "start_time": "2023-11-08T09:02:01.139Z"
   },
   {
    "duration": 341,
    "start_time": "2023-11-08T09:02:01.284Z"
   },
   {
    "duration": 406,
    "start_time": "2023-11-08T09:02:01.627Z"
   },
   {
    "duration": 213,
    "start_time": "2023-11-08T09:02:02.035Z"
   },
   {
    "duration": 118,
    "start_time": "2023-11-08T09:02:02.250Z"
   },
   {
    "duration": 308,
    "start_time": "2023-11-08T09:02:02.371Z"
   },
   {
    "duration": 371,
    "start_time": "2023-11-08T09:02:02.681Z"
   },
   {
    "duration": 0,
    "start_time": "2023-11-08T09:02:03.054Z"
   },
   {
    "duration": 0,
    "start_time": "2023-11-08T09:02:03.055Z"
   },
   {
    "duration": 0,
    "start_time": "2023-11-08T09:02:03.056Z"
   },
   {
    "duration": 0,
    "start_time": "2023-11-08T09:02:03.057Z"
   },
   {
    "duration": 0,
    "start_time": "2023-11-08T09:02:03.058Z"
   },
   {
    "duration": 0,
    "start_time": "2023-11-08T09:02:03.060Z"
   },
   {
    "duration": 0,
    "start_time": "2023-11-08T09:02:03.061Z"
   },
   {
    "duration": 0,
    "start_time": "2023-11-08T09:02:03.062Z"
   },
   {
    "duration": 10,
    "start_time": "2023-11-08T09:02:56.370Z"
   },
   {
    "duration": 4386,
    "start_time": "2023-11-08T09:04:12.261Z"
   },
   {
    "duration": 36,
    "start_time": "2023-11-08T09:04:33.170Z"
   },
   {
    "duration": 65,
    "start_time": "2023-11-08T09:04:50.329Z"
   },
   {
    "duration": 33,
    "start_time": "2023-11-08T09:04:57.694Z"
   },
   {
    "duration": 155,
    "start_time": "2023-11-08T09:15:10.885Z"
   },
   {
    "duration": 3,
    "start_time": "2023-11-08T09:19:01.790Z"
   },
   {
    "duration": 241,
    "start_time": "2023-11-08T09:19:01.795Z"
   },
   {
    "duration": 11,
    "start_time": "2023-11-08T09:19:02.039Z"
   },
   {
    "duration": 60,
    "start_time": "2023-11-08T09:19:02.052Z"
   },
   {
    "duration": 21,
    "start_time": "2023-11-08T09:19:02.114Z"
   },
   {
    "duration": 50,
    "start_time": "2023-11-08T09:19:02.137Z"
   },
   {
    "duration": 143,
    "start_time": "2023-11-08T09:19:02.190Z"
   },
   {
    "duration": 139,
    "start_time": "2023-11-08T09:19:02.334Z"
   },
   {
    "duration": 265,
    "start_time": "2023-11-08T09:19:02.475Z"
   },
   {
    "duration": 245,
    "start_time": "2023-11-08T09:19:02.742Z"
   },
   {
    "duration": 208,
    "start_time": "2023-11-08T09:19:02.989Z"
   },
   {
    "duration": 144,
    "start_time": "2023-11-08T09:19:03.199Z"
   },
   {
    "duration": 64,
    "start_time": "2023-11-08T09:19:03.345Z"
   },
   {
    "duration": 124,
    "start_time": "2023-11-08T09:19:03.411Z"
   },
   {
    "duration": 99,
    "start_time": "2023-11-08T09:19:03.536Z"
   },
   {
    "duration": 411,
    "start_time": "2023-11-08T09:19:03.637Z"
   },
   {
    "duration": 432,
    "start_time": "2023-11-08T09:19:04.050Z"
   },
   {
    "duration": 205,
    "start_time": "2023-11-08T09:19:04.483Z"
   },
   {
    "duration": 387,
    "start_time": "2023-11-08T09:19:04.690Z"
   },
   {
    "duration": 0,
    "start_time": "2023-11-08T09:19:05.079Z"
   },
   {
    "duration": 0,
    "start_time": "2023-11-08T09:19:05.080Z"
   },
   {
    "duration": 0,
    "start_time": "2023-11-08T09:19:05.081Z"
   },
   {
    "duration": 0,
    "start_time": "2023-11-08T09:19:05.082Z"
   },
   {
    "duration": 0,
    "start_time": "2023-11-08T09:19:05.083Z"
   },
   {
    "duration": 0,
    "start_time": "2023-11-08T09:19:05.084Z"
   },
   {
    "duration": 0,
    "start_time": "2023-11-08T09:19:05.085Z"
   },
   {
    "duration": 0,
    "start_time": "2023-11-08T09:19:05.086Z"
   },
   {
    "duration": 0,
    "start_time": "2023-11-08T09:19:05.087Z"
   },
   {
    "duration": 0,
    "start_time": "2023-11-08T09:19:05.088Z"
   },
   {
    "duration": 0,
    "start_time": "2023-11-08T09:19:05.089Z"
   },
   {
    "duration": 0,
    "start_time": "2023-11-08T09:19:05.090Z"
   },
   {
    "duration": 0,
    "start_time": "2023-11-08T09:19:05.091Z"
   },
   {
    "duration": 0,
    "start_time": "2023-11-08T09:19:05.092Z"
   },
   {
    "duration": 0,
    "start_time": "2023-11-08T09:19:05.094Z"
   },
   {
    "duration": 0,
    "start_time": "2023-11-08T09:19:05.095Z"
   },
   {
    "duration": 0,
    "start_time": "2023-11-08T09:19:05.096Z"
   },
   {
    "duration": 0,
    "start_time": "2023-11-08T09:19:05.097Z"
   },
   {
    "duration": 0,
    "start_time": "2023-11-08T09:19:05.098Z"
   },
   {
    "duration": 21,
    "start_time": "2023-11-08T09:20:03.707Z"
   },
   {
    "duration": 32,
    "start_time": "2023-11-08T09:20:53.211Z"
   },
   {
    "duration": 11,
    "start_time": "2023-11-08T09:21:29.232Z"
   },
   {
    "duration": 21,
    "start_time": "2023-11-08T09:21:38.632Z"
   },
   {
    "duration": 21,
    "start_time": "2023-11-08T09:22:07.517Z"
   },
   {
    "duration": 19,
    "start_time": "2023-11-08T09:22:30.016Z"
   },
   {
    "duration": 23,
    "start_time": "2023-11-08T09:23:03.512Z"
   },
   {
    "duration": 23,
    "start_time": "2023-11-08T09:23:06.994Z"
   },
   {
    "duration": 30,
    "start_time": "2023-11-08T09:23:14.359Z"
   },
   {
    "duration": 34,
    "start_time": "2023-11-08T09:24:39.465Z"
   },
   {
    "duration": 5,
    "start_time": "2023-11-08T09:34:02.667Z"
   },
   {
    "duration": 9,
    "start_time": "2023-11-08T09:34:17.563Z"
   },
   {
    "duration": 4,
    "start_time": "2023-11-08T09:34:27.001Z"
   },
   {
    "duration": 2643,
    "start_time": "2023-11-08T09:39:31.220Z"
   },
   {
    "duration": 12,
    "start_time": "2023-11-08T09:40:48.031Z"
   },
   {
    "duration": 12,
    "start_time": "2023-11-08T09:42:05.412Z"
   },
   {
    "duration": 135,
    "start_time": "2023-11-08T09:47:09.965Z"
   },
   {
    "duration": 1016,
    "start_time": "2023-11-08T09:47:18.131Z"
   },
   {
    "duration": 1245,
    "start_time": "2023-11-08T09:48:01.815Z"
   },
   {
    "duration": 2861,
    "start_time": "2023-11-08T09:49:23.099Z"
   },
   {
    "duration": 22,
    "start_time": "2023-11-08T09:49:50.083Z"
   },
   {
    "duration": 38,
    "start_time": "2023-11-08T09:50:15.153Z"
   },
   {
    "duration": 21,
    "start_time": "2023-11-08T09:50:22.330Z"
   },
   {
    "duration": 140,
    "start_time": "2023-11-08T09:51:24.931Z"
   },
   {
    "duration": 31,
    "start_time": "2023-11-08T09:51:35.638Z"
   },
   {
    "duration": 80,
    "start_time": "2023-11-08T09:51:55.624Z"
   },
   {
    "duration": 18,
    "start_time": "2023-11-08T09:52:19.349Z"
   },
   {
    "duration": 15,
    "start_time": "2023-11-08T09:52:52.976Z"
   },
   {
    "duration": 3,
    "start_time": "2023-11-08T09:52:54.872Z"
   },
   {
    "duration": 33,
    "start_time": "2023-11-08T09:54:12.442Z"
   },
   {
    "duration": 1313,
    "start_time": "2023-11-08T09:56:17.089Z"
   },
   {
    "duration": 13,
    "start_time": "2023-11-08T09:56:58.197Z"
   },
   {
    "duration": 25,
    "start_time": "2023-11-08T09:57:59.469Z"
   },
   {
    "duration": 57,
    "start_time": "2023-11-08T09:58:17.345Z"
   },
   {
    "duration": 31,
    "start_time": "2023-11-08T09:58:30.106Z"
   },
   {
    "duration": 27,
    "start_time": "2023-11-08T09:58:59.165Z"
   },
   {
    "duration": 4,
    "start_time": "2023-11-08T09:59:17.452Z"
   },
   {
    "duration": 148,
    "start_time": "2023-11-08T10:00:07.261Z"
   },
   {
    "duration": 27,
    "start_time": "2023-11-08T10:00:37.772Z"
   },
   {
    "duration": 31,
    "start_time": "2023-11-08T10:01:19.451Z"
   },
   {
    "duration": 43,
    "start_time": "2023-11-08T10:01:45.311Z"
   },
   {
    "duration": 23,
    "start_time": "2023-11-08T10:02:44.071Z"
   },
   {
    "duration": 136,
    "start_time": "2023-11-08T10:03:14.062Z"
   },
   {
    "duration": 5,
    "start_time": "2023-11-08T10:03:47.748Z"
   },
   {
    "duration": 19,
    "start_time": "2023-11-08T10:03:51.307Z"
   },
   {
    "duration": 22,
    "start_time": "2023-11-08T10:03:54.819Z"
   },
   {
    "duration": 21,
    "start_time": "2023-11-08T10:03:56.059Z"
   },
   {
    "duration": 30,
    "start_time": "2023-11-08T10:04:20.217Z"
   },
   {
    "duration": 44,
    "start_time": "2023-11-08T10:05:20.555Z"
   },
   {
    "duration": 4,
    "start_time": "2023-11-08T10:05:22.572Z"
   },
   {
    "duration": 18,
    "start_time": "2023-11-08T10:05:23.689Z"
   },
   {
    "duration": 17,
    "start_time": "2023-11-08T10:05:24.128Z"
   },
   {
    "duration": 17,
    "start_time": "2023-11-08T10:05:24.755Z"
   },
   {
    "duration": 21,
    "start_time": "2023-11-08T10:06:11.511Z"
   },
   {
    "duration": 18,
    "start_time": "2023-11-08T10:06:12.027Z"
   },
   {
    "duration": 18,
    "start_time": "2023-11-08T10:06:12.664Z"
   },
   {
    "duration": 15,
    "start_time": "2023-11-08T10:06:13.170Z"
   },
   {
    "duration": 22,
    "start_time": "2023-11-08T10:06:13.667Z"
   },
   {
    "duration": 21,
    "start_time": "2023-11-08T10:06:14.164Z"
   },
   {
    "duration": 14,
    "start_time": "2023-11-08T10:10:33.082Z"
   },
   {
    "duration": 315,
    "start_time": "2023-11-08T10:13:13.696Z"
   },
   {
    "duration": 8,
    "start_time": "2023-11-08T10:13:20.573Z"
   },
   {
    "duration": 9,
    "start_time": "2023-11-08T10:13:26.217Z"
   },
   {
    "duration": 5,
    "start_time": "2023-11-08T10:14:18.878Z"
   },
   {
    "duration": 4,
    "start_time": "2023-11-08T10:14:28.015Z"
   },
   {
    "duration": 9,
    "start_time": "2023-11-08T10:14:35.750Z"
   },
   {
    "duration": 11,
    "start_time": "2023-11-08T10:14:44.872Z"
   },
   {
    "duration": 438,
    "start_time": "2023-11-08T12:55:59.394Z"
   },
   {
    "duration": 600,
    "start_time": "2023-11-08T12:55:59.834Z"
   },
   {
    "duration": 28,
    "start_time": "2023-11-08T12:56:00.436Z"
   },
   {
    "duration": 145,
    "start_time": "2023-11-08T12:56:00.467Z"
   },
   {
    "duration": 89,
    "start_time": "2023-11-08T12:56:00.614Z"
   },
   {
    "duration": 110,
    "start_time": "2023-11-08T12:56:00.706Z"
   },
   {
    "duration": 71,
    "start_time": "2023-11-08T12:56:00.818Z"
   },
   {
    "duration": 104,
    "start_time": "2023-11-08T12:56:00.892Z"
   },
   {
    "duration": 123,
    "start_time": "2023-11-08T12:56:00.998Z"
   },
   {
    "duration": 194,
    "start_time": "2023-11-08T12:56:01.125Z"
   },
   {
    "duration": 95,
    "start_time": "2023-11-08T12:56:01.321Z"
   },
   {
    "duration": 196,
    "start_time": "2023-11-08T12:56:01.417Z"
   },
   {
    "duration": 140,
    "start_time": "2023-11-08T12:56:01.616Z"
   },
   {
    "duration": 108,
    "start_time": "2023-11-08T12:56:01.758Z"
   },
   {
    "duration": 73,
    "start_time": "2023-11-08T12:56:01.868Z"
   },
   {
    "duration": 81,
    "start_time": "2023-11-08T12:56:01.943Z"
   },
   {
    "duration": 77,
    "start_time": "2023-11-08T12:56:02.025Z"
   },
   {
    "duration": 120,
    "start_time": "2023-11-08T12:56:02.104Z"
   },
   {
    "duration": 48,
    "start_time": "2023-11-08T12:56:02.226Z"
   },
   {
    "duration": 6,
    "start_time": "2023-11-08T12:56:02.276Z"
   },
   {
    "duration": 132,
    "start_time": "2023-11-08T12:56:02.284Z"
   },
   {
    "duration": 24,
    "start_time": "2023-11-08T12:56:02.418Z"
   },
   {
    "duration": 68,
    "start_time": "2023-11-08T12:56:02.443Z"
   },
   {
    "duration": 27,
    "start_time": "2023-11-08T12:56:02.513Z"
   },
   {
    "duration": 58,
    "start_time": "2023-11-08T12:56:02.542Z"
   },
   {
    "duration": 25,
    "start_time": "2023-11-08T12:56:02.602Z"
   },
   {
    "duration": 57,
    "start_time": "2023-11-08T12:56:02.629Z"
   },
   {
    "duration": 39,
    "start_time": "2023-11-08T12:56:02.692Z"
   },
   {
    "duration": 37,
    "start_time": "2023-11-08T12:56:02.733Z"
   },
   {
    "duration": 560,
    "start_time": "2023-11-08T12:56:02.772Z"
   },
   {
    "duration": 0,
    "start_time": "2023-11-08T12:56:03.334Z"
   },
   {
    "duration": 0,
    "start_time": "2023-11-08T12:56:03.336Z"
   },
   {
    "duration": 0,
    "start_time": "2023-11-08T12:56:03.337Z"
   },
   {
    "duration": 0,
    "start_time": "2023-11-08T12:56:03.339Z"
   },
   {
    "duration": 0,
    "start_time": "2023-11-08T12:56:03.340Z"
   },
   {
    "duration": 0,
    "start_time": "2023-11-08T12:56:03.341Z"
   },
   {
    "duration": 0,
    "start_time": "2023-11-08T12:56:03.343Z"
   },
   {
    "duration": 0,
    "start_time": "2023-11-08T12:56:03.348Z"
   },
   {
    "duration": 21,
    "start_time": "2023-11-08T12:57:58.078Z"
   },
   {
    "duration": 23,
    "start_time": "2023-11-08T12:58:13.299Z"
   },
   {
    "duration": 16,
    "start_time": "2023-11-08T12:59:01.098Z"
   },
   {
    "duration": 18,
    "start_time": "2023-11-08T12:59:04.590Z"
   },
   {
    "duration": 2325,
    "start_time": "2023-11-08T12:59:38.504Z"
   },
   {
    "duration": 2220,
    "start_time": "2023-11-08T12:59:40.959Z"
   },
   {
    "duration": 24,
    "start_time": "2023-11-08T12:59:51.883Z"
   },
   {
    "duration": 7,
    "start_time": "2023-11-08T13:15:19.925Z"
   },
   {
    "duration": 17,
    "start_time": "2023-11-08T13:16:02.399Z"
   },
   {
    "duration": 19,
    "start_time": "2023-11-08T13:18:05.166Z"
   },
   {
    "duration": 21,
    "start_time": "2023-11-08T13:19:45.353Z"
   },
   {
    "duration": 13,
    "start_time": "2023-11-08T13:20:47.277Z"
   },
   {
    "duration": 12,
    "start_time": "2023-11-08T13:21:34.942Z"
   },
   {
    "duration": 18,
    "start_time": "2023-11-08T13:21:50.257Z"
   },
   {
    "duration": 9,
    "start_time": "2023-11-08T13:22:38.103Z"
   },
   {
    "duration": 22,
    "start_time": "2023-11-08T13:22:41.902Z"
   },
   {
    "duration": 11,
    "start_time": "2023-11-08T13:24:30.868Z"
   },
   {
    "duration": 44,
    "start_time": "2023-11-08T13:24:34.130Z"
   },
   {
    "duration": 20,
    "start_time": "2023-11-08T13:25:08.567Z"
   },
   {
    "duration": 18,
    "start_time": "2023-11-08T13:25:11.674Z"
   },
   {
    "duration": 27,
    "start_time": "2023-11-08T13:25:59.548Z"
   },
   {
    "duration": 19,
    "start_time": "2023-11-08T13:27:02.304Z"
   },
   {
    "duration": 18,
    "start_time": "2023-11-08T13:27:32.194Z"
   },
   {
    "duration": 42,
    "start_time": "2023-11-08T13:28:16.550Z"
   },
   {
    "duration": 25,
    "start_time": "2023-11-08T13:28:19.265Z"
   },
   {
    "duration": 424,
    "start_time": "2023-11-08T19:18:15.626Z"
   },
   {
    "duration": 294,
    "start_time": "2023-11-08T19:18:16.052Z"
   },
   {
    "duration": 20,
    "start_time": "2023-11-08T19:18:16.347Z"
   },
   {
    "duration": 45,
    "start_time": "2023-11-08T19:18:16.370Z"
   },
   {
    "duration": 3,
    "start_time": "2023-11-08T19:18:16.419Z"
   },
   {
    "duration": 7,
    "start_time": "2023-11-08T19:18:16.428Z"
   },
   {
    "duration": 14,
    "start_time": "2023-11-08T19:18:16.438Z"
   },
   {
    "duration": 9,
    "start_time": "2023-11-08T19:18:16.455Z"
   },
   {
    "duration": 46,
    "start_time": "2023-11-08T19:18:16.466Z"
   },
   {
    "duration": 34,
    "start_time": "2023-11-08T19:18:16.513Z"
   },
   {
    "duration": 28,
    "start_time": "2023-11-08T19:18:16.549Z"
   },
   {
    "duration": 99,
    "start_time": "2023-11-08T19:18:16.578Z"
   },
   {
    "duration": 85,
    "start_time": "2023-11-08T19:18:16.679Z"
   },
   {
    "duration": 84,
    "start_time": "2023-11-08T19:18:16.767Z"
   },
   {
    "duration": 7,
    "start_time": "2023-11-08T19:18:16.853Z"
   },
   {
    "duration": 12,
    "start_time": "2023-11-08T19:18:16.861Z"
   },
   {
    "duration": 31,
    "start_time": "2023-11-08T19:18:16.875Z"
   },
   {
    "duration": 38,
    "start_time": "2023-11-08T19:18:16.921Z"
   },
   {
    "duration": 35,
    "start_time": "2023-11-08T19:18:16.960Z"
   },
   {
    "duration": 6,
    "start_time": "2023-11-08T19:18:16.996Z"
   },
   {
    "duration": 35,
    "start_time": "2023-11-08T19:18:17.004Z"
   },
   {
    "duration": 17,
    "start_time": "2023-11-08T19:18:17.040Z"
   },
   {
    "duration": 24,
    "start_time": "2023-11-08T19:18:17.059Z"
   },
   {
    "duration": 34,
    "start_time": "2023-11-08T19:18:17.085Z"
   },
   {
    "duration": 21,
    "start_time": "2023-11-08T19:18:17.122Z"
   },
   {
    "duration": 15,
    "start_time": "2023-11-08T19:18:17.145Z"
   },
   {
    "duration": 8,
    "start_time": "2023-11-08T19:18:17.161Z"
   },
   {
    "duration": 62,
    "start_time": "2023-11-08T19:18:17.171Z"
   },
   {
    "duration": 16,
    "start_time": "2023-11-08T19:18:17.235Z"
   },
   {
    "duration": 4,
    "start_time": "2023-11-08T19:18:17.253Z"
   },
   {
    "duration": 25,
    "start_time": "2023-11-08T19:18:17.259Z"
   },
   {
    "duration": 32,
    "start_time": "2023-11-08T19:18:17.286Z"
   },
   {
    "duration": 25,
    "start_time": "2023-11-08T19:18:17.319Z"
   },
   {
    "duration": 12,
    "start_time": "2023-11-08T19:18:17.345Z"
   },
   {
    "duration": 2,
    "start_time": "2023-11-08T19:18:17.359Z"
   },
   {
    "duration": 10,
    "start_time": "2023-11-08T19:18:17.363Z"
   },
   {
    "duration": 6,
    "start_time": "2023-11-08T19:18:17.374Z"
   },
   {
    "duration": 4,
    "start_time": "2023-11-08T19:18:17.401Z"
   },
   {
    "duration": 9,
    "start_time": "2023-11-08T19:20:22.730Z"
   },
   {
    "duration": 5,
    "start_time": "2023-11-08T19:20:43.385Z"
   },
   {
    "duration": 7,
    "start_time": "2023-11-08T19:21:13.870Z"
   },
   {
    "duration": 5,
    "start_time": "2023-11-08T19:21:28.676Z"
   },
   {
    "duration": 12,
    "start_time": "2023-11-08T19:32:10.575Z"
   },
   {
    "duration": 104,
    "start_time": "2023-11-08T19:32:37.729Z"
   },
   {
    "duration": 14,
    "start_time": "2023-11-08T19:34:41.517Z"
   },
   {
    "duration": 59,
    "start_time": "2023-11-08T19:36:36.998Z"
   },
   {
    "duration": 54,
    "start_time": "2023-11-08T19:36:51.829Z"
   },
   {
    "duration": 65,
    "start_time": "2023-11-08T19:38:50.983Z"
   },
   {
    "duration": 7,
    "start_time": "2023-11-08T19:40:57.365Z"
   },
   {
    "duration": 11,
    "start_time": "2023-11-08T19:41:01.400Z"
   },
   {
    "duration": 4775,
    "start_time": "2023-11-08T19:41:18.798Z"
   },
   {
    "duration": 34,
    "start_time": "2023-11-08T19:41:36.625Z"
   },
   {
    "duration": 15,
    "start_time": "2023-11-08T19:41:52.125Z"
   },
   {
    "duration": 20,
    "start_time": "2023-11-08T19:42:56.445Z"
   },
   {
    "duration": 37,
    "start_time": "2023-11-08T19:43:06.234Z"
   },
   {
    "duration": 17,
    "start_time": "2023-11-08T19:43:19.041Z"
   },
   {
    "duration": 11,
    "start_time": "2023-11-08T19:44:50.432Z"
   },
   {
    "duration": 12,
    "start_time": "2023-11-08T19:44:58.979Z"
   },
   {
    "duration": 12,
    "start_time": "2023-11-08T19:45:04.833Z"
   },
   {
    "duration": 30,
    "start_time": "2023-11-08T19:45:29.559Z"
   },
   {
    "duration": 11,
    "start_time": "2023-11-08T19:45:37.766Z"
   },
   {
    "duration": 456,
    "start_time": "2023-11-12T16:50:20.880Z"
   },
   {
    "duration": 276,
    "start_time": "2023-11-12T16:50:21.338Z"
   },
   {
    "duration": 17,
    "start_time": "2023-11-12T16:50:21.615Z"
   },
   {
    "duration": 81,
    "start_time": "2023-11-12T16:50:21.634Z"
   },
   {
    "duration": 21,
    "start_time": "2023-11-12T16:50:21.717Z"
   },
   {
    "duration": 18,
    "start_time": "2023-11-12T16:50:21.740Z"
   },
   {
    "duration": 46,
    "start_time": "2023-11-12T16:50:21.760Z"
   },
   {
    "duration": 26,
    "start_time": "2023-11-12T16:50:21.808Z"
   },
   {
    "duration": 67,
    "start_time": "2023-11-12T16:50:21.836Z"
   },
   {
    "duration": 44,
    "start_time": "2023-11-12T16:50:21.905Z"
   },
   {
    "duration": 58,
    "start_time": "2023-11-12T16:50:21.950Z"
   },
   {
    "duration": 106,
    "start_time": "2023-11-12T16:50:22.010Z"
   },
   {
    "duration": 86,
    "start_time": "2023-11-12T16:50:22.118Z"
   },
   {
    "duration": 73,
    "start_time": "2023-11-12T16:50:22.206Z"
   },
   {
    "duration": 53,
    "start_time": "2023-11-12T16:50:22.281Z"
   },
   {
    "duration": 10,
    "start_time": "2023-11-12T16:50:22.336Z"
   },
   {
    "duration": 77,
    "start_time": "2023-11-12T16:50:22.348Z"
   },
   {
    "duration": 30,
    "start_time": "2023-11-12T16:50:22.427Z"
   },
   {
    "duration": 40,
    "start_time": "2023-11-12T16:50:22.459Z"
   },
   {
    "duration": 19,
    "start_time": "2023-11-12T16:50:22.500Z"
   },
   {
    "duration": 48,
    "start_time": "2023-11-12T16:50:22.521Z"
   },
   {
    "duration": 32,
    "start_time": "2023-11-12T16:50:22.571Z"
   },
   {
    "duration": 24,
    "start_time": "2023-11-12T16:50:22.604Z"
   },
   {
    "duration": 44,
    "start_time": "2023-11-12T16:50:22.630Z"
   },
   {
    "duration": 38,
    "start_time": "2023-11-12T16:50:22.675Z"
   },
   {
    "duration": 24,
    "start_time": "2023-11-12T16:50:22.715Z"
   },
   {
    "duration": 16,
    "start_time": "2023-11-12T16:50:22.740Z"
   },
   {
    "duration": 37,
    "start_time": "2023-11-12T16:50:22.759Z"
   },
   {
    "duration": 36,
    "start_time": "2023-11-12T16:50:22.797Z"
   },
   {
    "duration": 13,
    "start_time": "2023-11-12T16:50:22.835Z"
   },
   {
    "duration": 55,
    "start_time": "2023-11-12T16:50:22.850Z"
   },
   {
    "duration": 20,
    "start_time": "2023-11-12T16:50:22.906Z"
   },
   {
    "duration": 34,
    "start_time": "2023-11-12T16:50:22.927Z"
   },
   {
    "duration": 30,
    "start_time": "2023-11-12T16:50:22.963Z"
   },
   {
    "duration": 13,
    "start_time": "2023-11-12T16:50:22.995Z"
   },
   {
    "duration": 31,
    "start_time": "2023-11-12T16:50:23.009Z"
   },
   {
    "duration": 36,
    "start_time": "2023-11-12T16:50:23.042Z"
   },
   {
    "duration": 26,
    "start_time": "2023-11-12T16:50:23.080Z"
   }
  ],
  "colab": {
   "collapsed_sections": [
    "E0vqbgi9ay0H",
    "VUC88oWjTJw2"
   ],
   "provenance": []
  },
  "kernelspec": {
   "display_name": "Python 3 (ipykernel)",
   "language": "python",
   "name": "python3"
  },
  "language_info": {
   "codemirror_mode": {
    "name": "ipython",
    "version": 3
   },
   "file_extension": ".py",
   "mimetype": "text/x-python",
   "name": "python",
   "nbconvert_exporter": "python",
   "pygments_lexer": "ipython3",
   "version": "3.9.5"
  },
  "toc": {
   "base_numbering": 1,
   "nav_menu": {
    "height": "215px",
    "width": "403px"
   },
   "number_sections": true,
   "sideBar": true,
   "skip_h1_title": true,
   "title_cell": "Table of Contents",
   "title_sidebar": "Contents",
   "toc_cell": false,
   "toc_position": {
    "height": "calc(100% - 180px)",
    "left": "10px",
    "top": "150px",
    "width": "285.825px"
   },
   "toc_section_display": true,
   "toc_window_display": false
  }
 },
 "nbformat": 4,
 "nbformat_minor": 1
}
